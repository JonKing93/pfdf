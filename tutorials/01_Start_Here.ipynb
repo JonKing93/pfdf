{
 "cells": [
  {
   "cell_type": "markdown",
   "id": "dfdff6ce-d513-4150-aa17-63b4c6d4a6d7",
   "metadata": {},
   "source": [
    "# Welcome to the pfdf tutorials!"
   ]
  },
  {
   "cell_type": "markdown",
   "id": "2739050d-fbcd-4e7c-9c87-effb59df553f",
   "metadata": {},
   "source": [
    "These tutorials are a series of [Jupyter notebooks](https://jupyter.org/) designed to introduce new users to pfdf's key components. The [main series](#Main-Series) demonstrates how to use pfdf to implement a hazard assessment, and there are [additional tutorials](#Advanced-Topics) for more advanced topics. We recommend starting with the main series, as this will introduce most of pfdf's core components. The main series should be followed in order, as most of the notebooks build off of previous concepts.\n",
    "\n",
    "The tutorials are not exhaustive, and instead provide an initial tour of pfdf. That said, users should be able to implement standard hazard assessments after completing the main series. After completing the tutorials, you may also find the [User Guide](https://ghsc.code-pages.usgs.gov/lhp/pfdf/guide/index.html) and [API](https://ghsc.code-pages.usgs.gov/lhp/pfdf/api/index.html) useful. The [User Guide](https://ghsc.code-pages.usgs.gov/lhp/pfdf/guide/index.html) examines tutorial concepts in greater detail, and the [API](https://ghsc.code-pages.usgs.gov/lhp/pfdf/api/index.html) provides a complete reference guide to pfdf.\n",
    "\n",
    "Below, we describe the available tutorials, and then provide instructions for setting up and running the notebooks."
   ]
  },
  {
   "cell_type": "markdown",
   "id": "ac733ea4-eac8-4128-8d40-26101cc46648",
   "metadata": {},
   "source": [
    "## Contents"
   ]
  },
  {
   "cell_type": "markdown",
   "id": "e30941a6-84c1-4979-89dd-684517c6dc87",
   "metadata": {},
   "source": [
    "### Main Series"
   ]
  },
  {
   "cell_type": "markdown",
   "id": "c0798130-9c37-45c7-bdc8-b8e31d899d99",
   "metadata": {},
   "source": [
    "The main tutorial series introduces the concepts needed to implement standard hazard assessments. The series consists of the following tutorials:\n",
    "\n",
    "* [Raster Intro](./02_Raster_Intro.ipynb): Introduces the `Raster` class, which is used to manage raster datasets\n",
    "* [Download Data](./03_Download_Data.ipynb): Shows how to use the `data` package to download assessment datasets from the internet\n",
    "* [Preprocessing](./04_Preprocessing.ipynb): Shows how to use the `Raster` class to clean and reproject datasets before an assessment\n",
    "* [Hazard Assessment](./05_Hazard_Assessment.ipynb): Shows how to use pfdf components to implement a hazard assessment\n",
    "\n",
    "We **strongly recommend** following these tutorials in order, as each tutorial builds off of previous concepts."
   ]
  },
  {
   "cell_type": "markdown",
   "id": "d7ae6158-9546-4433-b9e1-172138a2c215",
   "metadata": {},
   "source": [
    "### Advanced Topics"
   ]
  },
  {
   "cell_type": "markdown",
   "id": "755679ff-e40e-4c76-9883-50c1f57e9aa8",
   "metadata": {},
   "source": [
    "The tutorials also include notebooks for several advanced topics, as follows:\n",
    "\n",
    "* [Raster Properties](./06_Raster_Properties.ipynb): Examines `Raster` metadata and data properties in greater detail.\n",
    "* [Raster Factories](./07_Raster_Factories.ipynb): Examines methods to create `Raster` objects from various data sources.\n",
    "* [Spatial Metadata](./08_Spatial_Metadata.ipynb): Introduces the `BoundingBox` and `Transform` classes, which are used to manage geospatial raster metadata\n",
    "* [RasterMetadata](./09_RasterMetadata_Class.ipynb): Introduces the `RasterMetadata` class, which manages raster metadata without loading data values into memory\n",
    "* [Parallel Basins](./10_Parallel_Basins.ipynb): Demonstrates how to locate outlet basins in parallel using multiple CPUs\n",
    "* [Parameter Sweep](./11_Parameter_Sweep.ipynb): Demonstrates how to run assessment models using multiple values of model parameters.\n",
    "\n",
    "There is no intended order for the advanced topics, but users will benefit from completing the main tutorial series first."
   ]
  },
  {
   "cell_type": "markdown",
   "id": "446a99ac-738f-442c-914d-97a37c1bb0c7",
   "metadata": {},
   "source": [
    "## Running the Tutorials"
   ]
  },
  {
   "cell_type": "markdown",
   "id": "73261f57-c29d-4de2-9d93-7964b1e69d5d",
   "metadata": {},
   "source": [
    "This section provides instructions for setting up and running the tutorial notebooks. However, you **are not** required to run the notebooks to follow the tutorials. If you're having trouble setting up the tutorial environment, you can instead [follow the tutorials in the pfdf docs](https://ghsc.code-pages.usgs.gov/lhp/pfdf/tutorials/index.html)."
   ]
  },
  {
   "cell_type": "markdown",
   "id": "8fe12215-1316-44bd-99a6-bcb38c02e14a",
   "metadata": {},
   "source": [
    "### Download Workspace"
   ]
  },
  {
   "cell_type": "markdown",
   "id": "6c1da0dd-025d-44e1-babc-91843e3d3268",
   "metadata": {},
   "source": [
    "To run the tutorials, you'll need to download the tutorial workspace. You can do so here: [Download Tutorial Workspace](https://ghsc.code-pages.usgs.gov/lhp/pfdf/tutorials/index.html). The download is a zip archive, so you'll need to unzip the archive somewhere convenient on your computer."
   ]
  },
  {
   "cell_type": "markdown",
   "id": "b4083028-e4e0-485c-b5bb-1e91f4b72023",
   "metadata": {},
   "source": [
    "### Software Environment"
   ]
  },
  {
   "cell_type": "markdown",
   "id": "a8ce811e-150f-4066-97ea-4d60b854b4ca",
   "metadata": {},
   "source": [
    "To run the tutorials, you will need to install pfdf with the additional tutorial resources. You can find detailed instructions in the [Installation Guide](https://ghsc.code-pages.usgs.gov/lhp/pfdf/resources/installation.html#tutorials), but in brief, the main steps are:\n",
    "\n",
    "1. [Create and activate a clean virtual environment](https://ghsc.code-pages.usgs.gov/lhp/pfdf/resources/installation.html#virtual-environment)\n",
    "2. Install Python 3.11 or 3.12, and then\n",
    "3. Install pfdf and tutorial resources using the following command:\n",
    "\n",
    "`pip install pfdf[tutorials] -i https://code.usgs.gov/api/v4/groups/859/-/packages/pypi/simple`\n",
    "\n",
    "The URL in this command instructs pip to install pfdf from the [official package registry](https://code.usgs.gov/groups/ghsc/lhp/-/packages) for the [Landslides Hazards Program](https://www.usgs.gov/programs/landslide-hazards), so you know pfdf is installed from a trusted source."
   ]
  },
  {
   "cell_type": "markdown",
   "id": "2f3d5044-d3dd-496e-94b4-c07fe0118f77",
   "metadata": {},
   "source": [
    "### Running the Notebooks"
   ]
  },
  {
   "cell_type": "markdown",
   "id": "2ebde504-9d8a-48a3-98fb-76fd48679684",
   "metadata": {},
   "source": [
    "Installing pfdf with the tutorial resources will include Jupyter Lab with your installation, and you can use this to run the notebooks. First, navigate to tutorial workspace folder. For example:"
   ]
  },
  {
   "cell_type": "raw",
   "id": "d79b36a2-0196-46d8-95ae-79770a9a2353",
   "metadata": {},
   "source": [
    "cd path/to/downloaded/tutorials"
   ]
  },
  {
   "cell_type": "markdown",
   "id": "bdd5d2f5-b490-4f91-8413-808421de3759",
   "metadata": {},
   "source": [
    "Then, run the following command:"
   ]
  },
  {
   "cell_type": "raw",
   "id": "2c6391ee-4fee-4fd4-8481-4a2c64fca6c3",
   "metadata": {},
   "source": [
    "jupyter lab"
   ]
  },
  {
   "cell_type": "markdown",
   "id": "073fac9a-dc5c-43b5-9871-cb22dc362395",
   "metadata": {},
   "source": [
    "This will open the tutorial workspace in Jupyter Lab. You can open a notebook by selecting it in the file browser sidebar. If you are not familiar with Jupyter notebooks, you can learn more about using them here: [JupyterLab Docs](https://jupyterlab.readthedocs.io/en/stable/)"
   ]
  },
  {
   "cell_type": "markdown",
   "id": "f9bf00a9-60a5-4a77-87e3-148c3fda1f25",
   "metadata": {},
   "source": [
    "#### Important!\n",
    "\n",
    "When you open a tutorial notebook, make sure the Jupyter kernel is set to the environment where you installed pfdf and the tutorial resources. "
   ]
  },
  {
   "cell_type": "markdown",
   "id": "ac74d187-1548-4608-8940-e6e4c0629eb8",
   "metadata": {},
   "source": [
    "## Tutorial Workspace"
   ]
  },
  {
   "cell_type": "markdown",
   "id": "a7b0d401-709b-4823-bffb-41d90a9703f7",
   "metadata": {},
   "source": [
    "In addition to the tutorial notebooks, the downloaded tutorial folder will also include the following folders:\n",
    "\n",
    "* **data**: Datasets used to implement the hazard assessment in the main series\n",
    "* **tools**: Utility modules used to help run the tutorials. You do not need to understand these modules to use pfdf or the tutorials\n",
    "* **check_installation**: Utility script used to check that the Jupyter kernel is set up correctly\n",
    "\n",
    "Running the tutorials will also produce the following folders:\n",
    "\n",
    "* **examples**: Small example datasets used to illustrate various concepts\n",
    "* **preprocessed**: Preprocessed hazard assessment datasets generated by the preprocessing tutorial\n",
    "* **exports**: Saved hazard assessment results generated by the hazard assessment tutorial"
   ]
  }
 ],
 "metadata": {
  "kernelspec": {
   "display_name": "Python 3 (ipykernel)",
   "language": "python",
   "name": "python3"
  },
  "language_info": {
   "codemirror_mode": {
    "name": "ipython",
    "version": 3
   },
   "file_extension": ".py",
   "mimetype": "text/x-python",
   "name": "python",
   "nbconvert_exporter": "python",
   "pygments_lexer": "ipython3",
   "version": "3.12.8"
  }
 },
 "nbformat": 4,
 "nbformat_minor": 5
}