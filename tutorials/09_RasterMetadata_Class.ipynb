{
 "cells": [
  {
   "cell_type": "markdown",
   "id": "b4d46750-50b1-41aa-bdad-3fe933d1c9dd",
   "metadata": {},
   "source": [
    "# RasterMetadata Tutorial\n",
    "This tutorial examines the `RasterMetadata` class, which can be used to manage raster metadata, without loading data values to memory."
   ]
  },
  {
   "cell_type": "markdown",
   "id": "8baa2864-0d64-4a23-99c4-a5cd641c4fe2",
   "metadata": {},
   "source": [
    "## Introduction"
   ]
  },
  {
   "cell_type": "markdown",
   "id": "ed27a0b9-0510-429e-a4a7-a876534d8990",
   "metadata": {},
   "source": [
    "Sometimes, you may wish to query a raster's metadata, without actually loading the raster's data array into memory. The following examples describe common cases, and there are many more:\n",
    "\n",
    "**Example 1**: You might want to check a raster's bounding box to see if it intersects your area of interest - but if it doesn't intersect, then you don't want to load the raster into memory.\n",
    "\n",
    "**Example 2**: You want to rasterize a Polygon dataset, but the dataset is quite large and you think the rasterized output might occupy too much memory. As such, you'd like to check the memory footprint for several possible resolutions, without actually rasterizing the dataset.\n",
    "\n",
    "**Example 3**: You're considering reprojecting a raster, but want to inspect the transform of the reprojected dataset first. Since reprojecting a data array can be computationally expensive, you'd like to avoid that before inspecting the new transform.\n",
    "\n",
    "The `RasterMetadata` class allows you to implement all these tasks. The class records and manages a raster dataset's metadata - both spatial and data array metadata - without loading the actual data array into memory. This can be useful for advanced users who are concerned with memory and/or computational efficiency. In this tutorial, we'll examine the `RasterMetadata` class and its key methods."
   ]
  },
  {
   "cell_type": "markdown",
   "id": "bdc6e693-a851-4d5a-b66d-b454406313d0",
   "metadata": {},
   "source": [
    "## Prerequisites"
   ]
  },
  {
   "cell_type": "markdown",
   "id": "769ce263-6cd2-48a1-b47b-965148857aad",
   "metadata": {},
   "source": [
    "### Install pfdf\n",
    "To run this tutorial, you must have installed [pfdf 3+ with tutorial resources](https://ghsc.code-pages.usgs.gov/lhp/pfdf/resources/installation.html#tutorials) in your Jupyter kernel. The following line checks this is the case:"
   ]
  },
  {
   "cell_type": "code",
   "execution_count": null,
   "id": "a3579bc7-bd2a-41f8-ac39-3fb3d06ae1a3",
   "metadata": {},
   "outputs": [],
   "source": [
    "import check_installation"
   ]
  },
  {
   "cell_type": "markdown",
   "id": "82f882cb-d093-443d-8ee7-8f23a7d822cc",
   "metadata": {},
   "source": [
    "### Example Files\n",
    "Finally, we'll save some example files to use in the tutorial. The raster dataset is a 50x75 grid of random values between 0 and 100 with a border of -1 NoData values along the edges. The raster is projected in EPSG:26911 with a 10 meter resolution. We'll also save an example Polygon feature collection."
   ]
  },
  {
   "cell_type": "code",
   "execution_count": null,
   "id": "5edb9d9d-1f2b-4fc7-9eb9-0d74b07743c4",
   "metadata": {},
   "outputs": [],
   "source": [
    "from tools import examples\n",
    "examples.build_raster()\n",
    "examples.build_polygons()"
   ]
  },
  {
   "cell_type": "markdown",
   "id": "e7bd5596-3aef-4d71-8a1e-fac71e7eaba4",
   "metadata": {},
   "source": [
    "## RasterMetadata Objects"
   ]
  },
  {
   "cell_type": "markdown",
   "id": "ef308a60-d4cf-4544-9577-3b0180baf3da",
   "metadata": {},
   "source": [
    "`RasterMetadata` objects are designed to manage raster metadata without the computational expense of loading and manipulating data arrays. This includes both spatial metadata, and data grid metadata. For example, even though a data array is not loaded into memory, you can still access the array's metadata properties, such as the shape, dtype, memory footprint, etc.\n",
    "\n",
    "The class broadly parallels the `Raster` class. For example, you can create `RasterMetadata` objects from existing data sources using factory methods, just like the `Raster` class. These factories have the same names as the `Raster` class and have nearly identical options. One exception is the `RasterMetadata` constructor, which is quite different from the `Raster` constructor. Please consult the [API](https://ghsc.code-pages.usgs.gov/lhp/pfdf/api/raster/metadata.html#pfdf.raster.RasterMetadata.__init__) for more details.\n",
    "\n",
    "Similarly, the `RasterMetadata` class includes methods for each preprocessing method in the `Raster` class. You can use these methods to determine the metadata for a raster dataset resulting from the associated preprocessing method. The class also includes several methods not included in the `Raster` class, which advanced users can use to implement custom metadata routines.\n",
    "\n",
    "Unlike `Raster` objects, `RasterMetadata` objects are **immutable**. This means you cannot alter a `RasterMetadata` object once it has been created. As such, any methods that update metadata fields return a new `RasterMetadata` object. This differs from the `Raster` class, which includes some methods that alter `Raster` objects in-place. This is most prevalent for raster preprocessing methods.\n",
    "\n",
    "For example, calling `Raster.reproject` will alter the data grid in-place, and will not return any output. By contrast, calling `RasterMetadata.reproject` will return the `RasterMetadata` object for the reprojected dataset as output, but the calling object will not be altered.\n",
    "\n",
    "You can import the `RasterMetadata` class from the `pfdf.raster` namespace. We'll also import the `Raster` class to help implement parts of the tutorial:"
   ]
  },
  {
   "cell_type": "code",
   "execution_count": null,
   "id": "00f21edd-ea67-4e70-93aa-3758699faf82",
   "metadata": {},
   "outputs": [],
   "source": [
    "from pfdf.raster import RasterMetadata, Raster"
   ]
  },
  {
   "cell_type": "markdown",
   "id": "8233d46a-7bc5-450f-9230-df2dc1bb3413",
   "metadata": {},
   "source": [
    "## Properties"
   ]
  },
  {
   "cell_type": "markdown",
   "id": "50425679-bc3b-4343-8333-82b62949c1eb",
   "metadata": {},
   "source": [
    "`RasterMetadata` objects support all the same metadata properties and methods as `Raster` objects. For example, let's load the `RasterMetadata` object for our example file:"
   ]
  },
  {
   "cell_type": "code",
   "execution_count": null,
   "id": "6deb1cef-c8df-40d3-a7a2-4bf9703d46cf",
   "metadata": {},
   "outputs": [],
   "source": [
    "metadata = RasterMetadata.from_file('examples/raster.tif')"
   ]
  },
  {
   "cell_type": "markdown",
   "id": "cdd88af1-07ca-46c4-aa59-8fab13a17f7f",
   "metadata": {},
   "source": [
    "We can inspect various metadata fields using the usual `Raster` properties. For example:"
   ]
  },
  {
   "cell_type": "code",
   "execution_count": null,
   "id": "c19f4866-114a-4130-8fd0-4e5c51dd5877",
   "metadata": {},
   "outputs": [],
   "source": [
    "# Data array metadata\n",
    "print(metadata.nodata)\n",
    "print(metadata.shape)\n",
    "print(metadata.dtype)\n",
    "print(metadata.nbytes)\n",
    "\n",
    "# CRS\n",
    "print(metadata.crs.name)\n",
    "print(metadata.utm_zone.name)\n",
    "\n",
    "# Transform\n",
    "print(metadata.transform)\n",
    "print(metadata.resolution('meters'))\n",
    "print(metadata.pixel_area('meters'))\n",
    "\n",
    "# Bounding Box\n",
    "print(metadata.bounds)\n",
    "print(metadata.center)"
   ]
  },
  {
   "cell_type": "markdown",
   "id": "4cdbe7f3-85ba-4847-8c1d-852a23abde64",
   "metadata": {},
   "source": [
    "However, there are three `Raster` properties that `RasterMetadata` does not support. These are `values`, `data_mask` and `nodata_mask` - the class does not include these properties because there is no data array loaded into memory:"
   ]
  },
  {
   "cell_type": "code",
   "execution_count": null,
   "id": "26c91c52-94f1-4392-b947-ea58b5d2de89",
   "metadata": {},
   "outputs": [],
   "source": [
    "try:\n",
    "    metadata.values\n",
    "    metadata.data_mask\n",
    "    metadata.nodata_mask\n",
    "except Exception:\n",
    "    print('Not supported because there is no data array in memory')"
   ]
  },
  {
   "cell_type": "markdown",
   "id": "5cf87d65-06d7-40a5-b554-0737a29fca34",
   "metadata": {},
   "source": [
    "## Factory Methods"
   ]
  },
  {
   "cell_type": "markdown",
   "id": "5b447251-3cc2-4d91-ba99-cb7cdee156a9",
   "metadata": {},
   "source": [
    "You can use factory methods to build `RasterMetadata` objects from various data sources. The class uses the same methods as the `Raster` class including:\n",
    "\n",
    "* `from_file`: Loads metadata from a raster in the local filesystem\n",
    "* `from_url`: Loads metadata from a raster accessed via a web URL\n",
    "* `from_array`: Builds metadata for a numpy array\n",
    "* `from_points`: Determines metadata for a rasterized Point/MultiPoint collection\n",
    "* `from_polygons`: Determines metadata for a rasterized Polygon/MultiPolygon collection\n",
    "\n",
    "These factories broadly use the same options as their associated `Raster` factories. This allows you to determine the metadata for the `Raster` object created with the same options. "
   ]
  },
  {
   "cell_type": "markdown",
   "id": "aa5dc769-191c-4f9e-a49e-b4a4a17164ad",
   "metadata": {},
   "source": [
    "### Saved Datasets\n",
    "For example, you can load the metadata for a raster file using `from_file`:"
   ]
  },
  {
   "cell_type": "code",
   "execution_count": null,
   "id": "f58fba2d-80ea-4705-b6c2-e4c2d91cba7e",
   "metadata": {},
   "outputs": [],
   "source": [
    "RasterMetadata.from_file('examples/raster.tif')"
   ]
  },
  {
   "cell_type": "markdown",
   "id": "bdda9d9b-249e-4823-9fa7-fc7184fd4ca3",
   "metadata": {},
   "source": [
    "and you can use the `bounds` option to see the metadata for the raster that would be loaded when constrained to the indicated bounding box:"
   ]
  },
  {
   "cell_type": "code",
   "execution_count": null,
   "id": "9692c87e-ee94-477b-887f-1b6038c494d6",
   "metadata": {},
   "outputs": [],
   "source": [
    "RasterMetadata.from_file('examples/raster.tif', bounds=[0, -250, 370, 0, 26911])"
   ]
  },
  {
   "cell_type": "markdown",
   "id": "9965171d-4610-440c-be13-52a536104d48",
   "metadata": {},
   "source": [
    "Note that the shape and bounding box in this second object are different from the metadata for the full file."
   ]
  },
  {
   "cell_type": "markdown",
   "id": "954651ea-93d1-4be4-a68b-0f327fe86872",
   "metadata": {},
   "source": [
    "### Rasterizing Vector Features\n",
    "Analogously, you can use the `from_points` and `from_polygons` factories to determine the metadata for the dataset that would arise from rasterizing vector features. For example:"
   ]
  },
  {
   "cell_type": "code",
   "execution_count": null,
   "id": "0082b815-119a-4273-9b01-be071216085b",
   "metadata": {},
   "outputs": [],
   "source": [
    "RasterMetadata.from_polygons('examples/polygons.geojson')"
   ]
  },
  {
   "cell_type": "markdown",
   "id": "392409d5-572f-4c1f-bfa5-0047ce0ee2b8",
   "metadata": {},
   "source": [
    "Again, the options broadly parallel the `Raster` factories, so you can see how different options would affect the rasterized array:"
   ]
  },
  {
   "cell_type": "code",
   "execution_count": null,
   "id": "9b3d09fe-550c-434a-84a8-28be6b9d6fd6",
   "metadata": {},
   "outputs": [],
   "source": [
    "RasterMetadata.from_polygons('examples/polygons.geojson', resolution=30)"
   ]
  },
  {
   "cell_type": "code",
   "execution_count": null,
   "id": "b9ac0fc3-5a4e-4060-84e7-ef7c50536396",
   "metadata": {},
   "outputs": [],
   "source": [
    "RasterMetadata.from_polygons('examples/polygons.geojson', field='my-data')"
   ]
  },
  {
   "cell_type": "markdown",
   "id": "5bed8ec9-5377-46aa-838c-3d09d41e19bc",
   "metadata": {},
   "source": [
    "### require_overlap\n",
    "The `from_file` and `from_url` methods both include the `require_overlap` option, which is not included in the parallel `Raster` factories. This option is intended to help users test whether a dataset intersects an area of interest.\n",
    "\n",
    "By default, the factories will raise an error if the saved dataset does not intersect the bounding box, just like the `Raster` class. However, you can use `require_overlap` option to disable this behavior and return a metadata object with 0 values in the shape instead. This can be useful when searching through multiple files/URLs for a dataset that intersects an area of interest.\n",
    "\n",
    "For example, let's mimic a search through a DEM tileset. Suppose we want to load data near the town of Golden, Colorado. Specifically, we want data from 39.73 to 39.79 N, and 105.19 to 105.24 W:"
   ]
  },
  {
   "cell_type": "code",
   "execution_count": null,
   "id": "cd6d92ed-526f-4a3b-b0d0-63545e7a2a9e",
   "metadata": {},
   "outputs": [],
   "source": [
    "url = 'https://prd-tnm.s3.amazonaws.com/StagedProducts/Elevation/13/TIFF/historical/n42w102/USGS_13_n42w102_20220415.tif'\n",
    "bounds = {'left': -105.24, 'right': -105.19, 'bottom': 39.73, 'top': 39.79, 'crs': 4326}"
   ]
  },
  {
   "cell_type": "markdown",
   "id": "508a5c86-460c-492a-a612-fb35b5279c08",
   "metadata": {},
   "source": [
    "The following would fail, because the queried tile does not intersect the bounding box:"
   ]
  },
  {
   "cell_type": "code",
   "execution_count": null,
   "id": "f9829e92-0d5c-45aa-99ad-858047931ec8",
   "metadata": {},
   "outputs": [],
   "source": [
    "try:\n",
    "    RasterMetadata.from_url(url, bounds=bounds)\n",
    "except Exception:\n",
    "    print('Error because the file did not intersect the bounding box')"
   ]
  },
  {
   "cell_type": "markdown",
   "id": "9da82660-1ab4-42ca-a24b-39fc3c918b7f",
   "metadata": {},
   "source": [
    "Whereas the following would succeed, returning a metadata object whose shape includes 0 values:"
   ]
  },
  {
   "cell_type": "code",
   "execution_count": null,
   "id": "470e801f-a497-445d-830d-160dde30b74c",
   "metadata": {},
   "outputs": [],
   "source": [
    "metadata = RasterMetadata.from_url(url, bounds=bounds, require_overlap=False)\n",
    "print(metadata.shape)"
   ]
  },
  {
   "cell_type": "markdown",
   "id": "4f6d99a7-be0f-419c-b3e0-c29e6c368f73",
   "metadata": {},
   "source": [
    "This behavior can be useful for search routines. For example, you could use something like the following to find an intersecting tile:"
   ]
  },
  {
   "cell_type": "code",
   "execution_count": null,
   "id": "394bad53-26b9-44a6-92b5-ad86fe866556",
   "metadata": {},
   "outputs": [],
   "source": [
    "tiles = [url]  # This would have many more URLs in it\n",
    "for tile in tiles:\n",
    "    metadata = RasterMetadata.from_url(url, bounds=bounds, require_overlap=False)\n",
    "    if 0 in metadata.shape:\n",
    "        continue"
   ]
  },
  {
   "cell_type": "markdown",
   "id": "4ba694b3-51bb-4516-99bf-ca3cbb3229ba",
   "metadata": {},
   "source": [
    "## Other Creation Methods"
   ]
  },
  {
   "cell_type": "markdown",
   "id": "3ae44916-e966-4e0e-8932-b3bd8baa73c0",
   "metadata": {},
   "source": [
    "There are other ways to obtain `RasterMetadata` objects, beyond the factory methods. The most common way is to query the `metadata` property of a `Raster` object. For example:"
   ]
  },
  {
   "cell_type": "code",
   "execution_count": null,
   "id": "c2ee12e6-d10c-43a3-bf6e-708c0706e81d",
   "metadata": {},
   "outputs": [],
   "source": [
    "raster = Raster.from_file('examples/raster.tif')\n",
    "metadata = raster.metadata\n",
    "print(metadata)"
   ]
  },
  {
   "cell_type": "markdown",
   "id": "a02fe527-e448-44ed-8821-432c42f83f97",
   "metadata": {},
   "source": [
    "You can also create `RasterMetadata` objects using the constructor. This can allow advanced users to build custom `RasterMetadata` objects from scratch. Please see the [API](https://ghsc.code-pages.usgs.gov/lhp/pfdf/api/raster/metadata.html) if you are interested in this topic."
   ]
  },
  {
   "cell_type": "markdown",
   "id": "aa315dbb-7b30-480d-97f6-93ba3dc2a0f3",
   "metadata": {},
   "source": [
    "## Preprocessing"
   ]
  },
  {
   "cell_type": "markdown",
   "id": "a30ba712-fb30-4e8f-a71e-cd5684ef312e",
   "metadata": {},
   "source": [
    "You can also use the `RasterMetadata` class to determine the metadata of rasters that would result from various preprocessing operations. Currently, the class supports the following methods:\n",
    "\n",
    "* fill,\n",
    "* buffer,\n",
    "* clip, and\n",
    "* reproject\n",
    "\n",
    "The `find` and `set_range` methods are not explicitly supported, because they primarily act on a raster's data array.\n",
    "\n",
    "When calling one of these preprocessing methods, the metadata for the resulting dataset is returned as output. For example, let's load the metadata for our example dataset:"
   ]
  },
  {
   "cell_type": "code",
   "execution_count": null,
   "id": "97934777-48d5-40f1-8713-d5a91d6ee5d7",
   "metadata": {},
   "outputs": [],
   "source": [
    "metadata = RasterMetadata.from_file('examples/raster.tif')\n",
    "print(metadata)"
   ]
  },
  {
   "cell_type": "markdown",
   "id": "e00b4c5e-32c4-434d-b1a3-c09c4d6217f3",
   "metadata": {},
   "source": [
    "We can use the `reproject` command to see how reprojection options would alter the dataset:"
   ]
  },
  {
   "cell_type": "code",
   "execution_count": null,
   "id": "fc7e74ff-967c-42d7-8efe-e9d62423c52f",
   "metadata": {},
   "outputs": [],
   "source": [
    "metadata.reproject(crs=4326)"
   ]
  },
  {
   "cell_type": "markdown",
   "id": "04ee3747-89b4-46ee-b515-87d2a59fcd5f",
   "metadata": {},
   "source": [
    "The `clip` command shows how clipping would alter the dataset:"
   ]
  },
  {
   "cell_type": "code",
   "execution_count": null,
   "id": "97099ae5-d71b-4480-bcab-d94b4013c337",
   "metadata": {},
   "outputs": [],
   "source": [
    "metadata.clip(bounds = [0, -250, 500, 0])"
   ]
  },
  {
   "cell_type": "markdown",
   "id": "26f70e1e-6887-4773-af43-04d121137098",
   "metadata": {},
   "source": [
    "The `buffer` command shows the effects of buffering the bounding box:"
   ]
  },
  {
   "cell_type": "code",
   "execution_count": null,
   "id": "9721031e-2f59-4a2a-be97-c1bf20998f0a",
   "metadata": {},
   "outputs": [],
   "source": [
    "metadata.buffer(3, 'kilometers')"
   ]
  },
  {
   "cell_type": "markdown",
   "id": "abec50b9-647d-454f-b4e8-3595b4364208",
   "metadata": {},
   "source": [
    "and `fill` returns metadata lacking a NoData value:"
   ]
  },
  {
   "cell_type": "code",
   "execution_count": null,
   "id": "d78390cc-96fa-4f3c-9863-7453884e7da9",
   "metadata": {},
   "outputs": [],
   "source": [
    "metadata.fill()"
   ]
  },
  {
   "cell_type": "markdown",
   "id": "ab6e769e-679d-4b40-973b-9c05018035be",
   "metadata": {},
   "source": [
    "## Conclusion"
   ]
  },
  {
   "cell_type": "markdown",
   "id": "5a428d7d-b52d-4cac-a40d-8d9c31f2485f",
   "metadata": {},
   "source": [
    "In this tutorial, we introduced the `RasterMetadata` class and some of its key commands. This included:\n",
    "\n",
    "* metadata properties,\n",
    "* factory methods,\n",
    "* how to obtain a metadata object from a raster object, and\n",
    "* preprocessing methods.\n",
    "\n",
    "We note that this tutorial is only introduction, so the `RasterMetadata` class includes more advanced commands not explored here. Please see the [API](https://ghsc.code-pages.usgs.gov/lhp/pfdf/api/raster.html#pfdf.raster.RasterMetadata) for a complete guide to the class."
   ]
  }
 ],
 "metadata": {
  "kernelspec": {
   "display_name": "Python 3 (ipykernel)",
   "language": "python",
   "name": "python3"
  },
  "language_info": {
   "codemirror_mode": {
    "name": "ipython",
    "version": 3
   },
   "file_extension": ".py",
   "mimetype": "text/x-python",
   "name": "python",
   "nbconvert_exporter": "python",
   "pygments_lexer": "ipython3",
   "version": "3.12.8"
  }
 },
 "nbformat": 4,
 "nbformat_minor": 5
}