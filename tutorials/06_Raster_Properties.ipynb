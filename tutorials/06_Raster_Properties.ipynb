{
 "cells": [
  {
   "cell_type": "markdown",
   "id": "45f71f6f-9707-4945-99b6-f2e9a656badb",
   "metadata": {},
   "source": [
    "# Raster Properties Tutorial\n",
    "This tutorial introduces the `Raster` class and examines routines to manage data values and spatial metadata."
   ]
  },
  {
   "cell_type": "markdown",
   "id": "48783226-6ec5-43e9-88da-40679618a992",
   "metadata": {},
   "source": [
    "## Introduction"
   ]
  },
  {
   "cell_type": "markdown",
   "id": "ca7e6fbf-3782-4b19-8377-bf8e75436e74",
   "metadata": {},
   "source": [
    "Raster datasets are fundamental to pfdf - many routines require rasters as input, and many produce new rasters as output. In brief, a raster dataset is a rectangular grid of data values. The individual values (often called _pixels_) are regularly spaced along the X and Y axes, and each axis may use its own spacing interval. A raster is usually associated with some spatial metadata, which locates the raster's pixels in space. Some rasters will also have a NoData value - when this is the case, pixels equal to the NoData value represent missing data.\n",
    "\n",
    "A raster's spatial metadata consists of a coordinate reference system (CRS) and an affine transformation matrix (also known as the _transform_). The transform converts the data grid's column indices to spatial coordinates, and the CRS specifies the location of these coordinates on the Earth's surface. A transform defines a raster's resolution and alignment (the location of pixel edges) and takes the form:\n",
    "\n",
    "$$\n",
    "\\begin{vmatrix}\n",
    "dx & 0 & \\mathrm{left}\\\\\n",
    "0 & dy & \\mathrm{top}\n",
    "\\end{vmatrix}\n",
    "$$\n",
    "\n",
    "Here _dx_ and _dy_ are the change in spatial coordinate when incrementing one column or row, and their absolute values define the raster's resolution. Meanwhile, _left_ and _top_ indicate the spatial coordinates of the data grid's left and top edges, which defines the raster's alignment. The two remaining coefficients can be used to implement shear transforms, but pfdf only supports rectangular pixels, so these will always be 0 for our purposes."
   ]
  },
  {
   "cell_type": "markdown",
   "id": "e86add11-d658-4180-a603-6fa76ede76f1",
   "metadata": {},
   "source": [
    "In this tutorial, we'll see how to use ``Raster`` objects to manage data values and spatial metadata. Other routines are explored later in the [Raster Factories](07_Raster_Factories.ipynb) and [Preprocessing](04_Preprocessing.ipynb) tutorials."
   ]
  },
  {
   "cell_type": "markdown",
   "id": "b2a32597-a26a-4e90-ac3b-ebf887dda8b5",
   "metadata": {},
   "source": [
    "## Prerequisites"
   ]
  },
  {
   "cell_type": "markdown",
   "id": "b6f0a170-74b7-4303-9b06-1119c49fdb34",
   "metadata": {},
   "source": [
    "### Install pfdf\n",
    "To run this tutorial, you must have installed [pfdf 3+ with tutorial resources](https://ghsc.code-pages.usgs.gov/lhp/pfdf/resources/installation.html#tutorials) in your Jupyter kernel. The following line checks this is the case:"
   ]
  },
  {
   "cell_type": "code",
   "execution_count": null,
   "id": "c449c78b-cb5f-446a-bb66-f9fee291a6be",
   "metadata": {},
   "outputs": [],
   "source": [
    "import check_installation"
   ]
  },
  {
   "cell_type": "markdown",
   "id": "e95dbf82-f39b-4347-8398-14dc0f4ed82b",
   "metadata": {},
   "source": [
    "### Imports\n",
    "We'll next import the ``Raster`` class from pfdf. We'll also use ``numpy`` to work with raster data grids."
   ]
  },
  {
   "cell_type": "code",
   "execution_count": null,
   "id": "0a5d24c3-cdb8-4da2-89cc-7eb0143108c9",
   "metadata": {},
   "outputs": [],
   "source": [
    "from pfdf.raster import Raster\n",
    "import numpy as np"
   ]
  },
  {
   "cell_type": "markdown",
   "id": "99f800c0-f609-4f9b-a45c-3567336e4fe6",
   "metadata": {},
   "source": [
    "### Example File\n",
    "Finally, we'll create an example raster file to use in the tutorial. This dataset is a 50x75 grid of random values between 0 and 100 with a border of -128 NoData values along the edges. The raster is projected in EPSG:26911 with a 10 meter resolution."
   ]
  },
  {
   "cell_type": "code",
   "execution_count": null,
   "id": "8d397899-3e3c-453d-ad62-29d54d6a64e5",
   "metadata": {},
   "outputs": [],
   "source": [
    "from tools import examples\n",
    "examples.build_raster()"
   ]
  },
  {
   "cell_type": "markdown",
   "id": "fef06a3b-c5ab-4a95-b4bb-b274e2f9aecd",
   "metadata": {},
   "source": [
    "## Raster Object\n",
    "We'll start by using the `from_file` command to create a `Raster` object for our example dataset. (You can learn more about this command in the [Raster Factories Tutorial](07_Raster_Factories.ipynb):"
   ]
  },
  {
   "cell_type": "code",
   "execution_count": null,
   "id": "cac3dfce-d6fe-4a56-b616-0a2898ea6ed1",
   "metadata": {},
   "outputs": [],
   "source": [
    "raster = Raster('examples/raster.tif')"
   ]
  },
  {
   "cell_type": "markdown",
   "id": "b947beb3-b967-42dc-84ef-f996458ffbf0",
   "metadata": {},
   "source": [
    "Printing the object to the console, we can see a summary of the data grid and spatial metadata:"
   ]
  },
  {
   "cell_type": "code",
   "execution_count": null,
   "id": "86be46f7-ea11-414c-82bb-e134472a8aaa",
   "metadata": {},
   "outputs": [],
   "source": [
    "print(raster)"
   ]
  },
  {
   "cell_type": "markdown",
   "id": "84d82fde-ab86-4433-aeb2-1ba003002e28",
   "metadata": {},
   "source": [
    "## Data Grid\n",
    "You can use the `values` property to return a `Raster` object's data grid:"
   ]
  },
  {
   "cell_type": "code",
   "execution_count": null,
   "id": "f7c8cc00-0bb3-4f22-8cee-c15aa4b030f8",
   "metadata": {},
   "outputs": [],
   "source": [
    "raster.values"
   ]
  },
  {
   "cell_type": "markdown",
   "id": "d95ea3ab-be62-4dc2-9db3-3ea4bb2a6747",
   "metadata": {},
   "source": [
    "`Raster` objects represent their data grids as numpy arrays, so provide several properties determined by the array. For example, you can use the `shape` property to return the array shape (nrows x ncols), `size` to return the number of pixels. `dtype` to return the data type, and `nbytes` to return the memory consumed by the array. Users who prefer [rasterio's](https://rasterio.readthedocs.io/en/stable/index.html) syntax can also use `height` and `width` to return the number of rows and columns, respectively:"
   ]
  },
  {
   "cell_type": "code",
   "execution_count": null,
   "id": "b4c73b31-67b3-4e43-8f5f-d44e7bd486d2",
   "metadata": {},
   "outputs": [],
   "source": [
    "print(f'shape = {raster.shape}')\n",
    "print(f'height = {raster.height}')\n",
    "print(f'width = {raster.width}')\n",
    "print(f'size = {raster.size}')\n",
    "print(f'dtype = {raster.dtype}')\n",
    "print(f'nbytes = {raster.nbytes}')"
   ]
  },
  {
   "cell_type": "markdown",
   "id": "d0b70569-a021-48fc-b90e-c77f041b4887",
   "metadata": {},
   "source": [
    "The `values` property returns a read-only view of the `Raster` object's data grid. Most routines will work as normal, but you'll need to make a copy if you want to alter array elements directly:"
   ]
  },
  {
   "cell_type": "code",
   "execution_count": null,
   "id": "a855e694-4741-45c6-9b2c-2517866d05d7",
   "metadata": {},
   "outputs": [],
   "source": [
    "# Most routines work as normal\n",
    "median = np.median(raster.values)\n",
    "print(median)"
   ]
  },
  {
   "cell_type": "code",
   "execution_count": null,
   "id": "fbf77b7a-f436-4eb6-858c-8aa9e472b5f1",
   "metadata": {},
   "outputs": [],
   "source": [
    "# But this will fail because it attempts to alter array elements\n",
    "try:\n",
    "    rasters.values[0,:] = 0\n",
    "except Exception:\n",
    "    print('Failed because we attempted to change the array')"
   ]
  },
  {
   "cell_type": "code",
   "execution_count": null,
   "id": "a34a2b8e-3687-4c84-9235-b1f259382512",
   "metadata": {},
   "outputs": [],
   "source": [
    "# This is fine because we copied the array first\n",
    "values = raster.values.copy()\n",
    "values[0,:] = 0\n",
    "print(values)"
   ]
  },
  {
   "cell_type": "markdown",
   "id": "3c7a8685-c795-435b-a00e-d75eef1e5f01",
   "metadata": {},
   "source": [
    "## NoData Values\n",
    "You can use the `nodata` property to return a raster's NoData value:"
   ]
  },
  {
   "cell_type": "code",
   "execution_count": null,
   "id": "8db6ee8a-5096-4553-aac5-eeb372b75213",
   "metadata": {},
   "outputs": [],
   "source": [
    "print(raster.nodata)"
   ]
  },
  {
   "cell_type": "markdown",
   "id": "3b94a986-d5ca-4501-99a0-419d5bf8e5d7",
   "metadata": {},
   "source": [
    "The `nodata_mask` property will return a boolean array indicating the locations of NoData values in the data grid. Here, `True` values indicate NoData pixels, and `False` values indicate data pixels. Inspecting the NoData mask for the example dataset, we can see locations of NoData pixels along the data grid's edges:"
   ]
  },
  {
   "cell_type": "code",
   "execution_count": null,
   "id": "cf9d5809-c987-46fe-be4d-a904cc692aaf",
   "metadata": {},
   "outputs": [],
   "source": [
    "raster.nodata_mask"
   ]
  },
  {
   "cell_type": "markdown",
   "id": "5c387973-cb56-4f8d-8aef-d06fa103b873",
   "metadata": {},
   "source": [
    "Alternatively, you can use the `data_mask` property to return the inverse mask, wherein `True` indicates data pixels and `False` is NoData:"
   ]
  },
  {
   "cell_type": "code",
   "execution_count": null,
   "id": "39848343-81b2-4eab-9c51-d8a774a2852b",
   "metadata": {},
   "outputs": [],
   "source": [
    "raster.data_mask"
   ]
  },
  {
   "cell_type": "markdown",
   "id": "15a0217d-1d60-483a-ade8-9e73d5af439e",
   "metadata": {},
   "source": [
    "These masks can be useful for manipulating and/or visualizing raster data values after processing."
   ]
  },
  {
   "cell_type": "markdown",
   "id": "59097ff1-34fa-4325-af4c-df15e1ef3ee2",
   "metadata": {},
   "source": [
    "## CRS\n",
    "Several other properties return a raster's spatial metadata. The `crs` returns the raster's coordinate reference system as a [pyproj.CRS](https://pyproj4.github.io/pyproj/stable/) object, `crs_units` reports the CRS's coordinate units along the X and Y axes, and `utm_zone` returns the CRS of the best UTM zone for the raster's center point:"
   ]
  },
  {
   "cell_type": "code",
   "execution_count": null,
   "id": "733736a3-bdd7-4f0f-bcd0-25d191b5b261",
   "metadata": {},
   "outputs": [],
   "source": [
    "raster.crs"
   ]
  },
  {
   "cell_type": "code",
   "execution_count": null,
   "id": "49abe872-9eab-41f3-82cd-59efc8c4d859",
   "metadata": {},
   "outputs": [],
   "source": [
    "raster.crs_units"
   ]
  },
  {
   "cell_type": "code",
   "execution_count": null,
   "id": "023718db-4a7b-4991-89b8-6b605b5930a4",
   "metadata": {},
   "outputs": [],
   "source": [
    "raster.utm_zone"
   ]
  },
  {
   "cell_type": "markdown",
   "id": "2baaf5f3-8abd-4070-ba64-fc475b289f5b",
   "metadata": {},
   "source": [
    "## Transform\n",
    "You can use the `transform` property to return a raster's `Transform` object. This object manages the affine transform, and you can learn more in the [Spatial Metadata Tutorial](08_Spatial_Metadata.ipynb):"
   ]
  },
  {
   "cell_type": "code",
   "execution_count": null,
   "id": "e9a9f735-dd35-4e4d-bc9e-ed032fe40eb7",
   "metadata": {},
   "outputs": [],
   "source": [
    "raster.transform"
   ]
  },
  {
   "cell_type": "markdown",
   "id": "465aaeb8-4379-4d72-bfb8-9d0ef8199121",
   "metadata": {},
   "source": [
    "You can also use the `resolution` method to return the resolution along the X and Y axes, and `pixel_area` to return the area of a single pixel:"
   ]
  },
  {
   "cell_type": "code",
   "execution_count": null,
   "id": "88431cb9-57e7-4b63-b0c7-2dcb0f45807f",
   "metadata": {},
   "outputs": [],
   "source": [
    "print(raster.resolution())\n",
    "print(raster.pixel_area())"
   ]
  },
  {
   "cell_type": "markdown",
   "id": "cc422e0d-c840-431d-bde2-d036794e266c",
   "metadata": {},
   "source": [
    "By default, these commands return values in meters, but you can use the `units` option to select other units:"
   ]
  },
  {
   "cell_type": "code",
   "execution_count": null,
   "id": "fda1e025-0a40-445c-8923-5016ce3073c1",
   "metadata": {},
   "outputs": [],
   "source": [
    "resolution = raster.resolution(units='feet')\n",
    "area = raster.pixel_area(units='feet')\n",
    "print(resolution)\n",
    "print(area)"
   ]
  },
  {
   "cell_type": "markdown",
   "id": "b7c836ac-3f4c-4ec7-a96a-43a59a011f36",
   "metadata": {},
   "source": [
    "You can find a list of supported units here: [Supported Units](https://ghsc.code-pages.usgs.gov/lhp/pfdf/guide/utils/units.html#supported-units)"
   ]
  },
  {
   "cell_type": "markdown",
   "id": "2e31f891-8513-449e-9f8b-4f521acbc3e7",
   "metadata": {},
   "source": [
    "## Bounding Box\n",
    "You can use the `bounds` property to return a raster's `BoundingBox` object. This object manages the raster's bounding box, and you can learn more in the [Spatial Metadata Tutorial](08_Spatial_Metadata.ipynb):"
   ]
  },
  {
   "cell_type": "code",
   "execution_count": null,
   "id": "f6a0ac12-44c7-470f-940e-42a3903c5bee",
   "metadata": {},
   "outputs": [],
   "source": [
    "raster.bounds"
   ]
  },
  {
   "cell_type": "markdown",
   "id": "fc5efae3-035f-4f51-a6f8-bf5fe5cec626",
   "metadata": {},
   "source": [
    "You can also use the `left`, `right`, `top`, and `bottom` properties to return the coordinates of specific edges, and the `center` property to return the (X, Y) coordinate of the raster's center point:"
   ]
  },
  {
   "cell_type": "code",
   "execution_count": null,
   "id": "f43e0504-4acf-4534-ab3a-99046a1bc38b",
   "metadata": {},
   "outputs": [],
   "source": [
    "print(f'left = {raster.left}')\n",
    "print(f'right = {raster.right}')\n",
    "print(f'bottom = {raster.bottom}')\n",
    "print(f'top = {raster.top}')\n",
    "print(f'center = {raster.center}')"
   ]
  },
  {
   "cell_type": "markdown",
   "id": "ef7a8aa6-9065-417b-ad9f-e275ca1caac1",
   "metadata": {},
   "source": [
    "## Conclusion\n",
    "In this tutorial, we've introduced raster datasets, and seen how to use the `Raster` class to manage their data grids and spatial metadata. In the [next tutorial](07_Raster_Factories.ipynb), we'll see how to load and build `Raster` objects from a variety of different data sources."
   ]
  }
 ],
 "metadata": {
  "kernelspec": {
   "display_name": "Python 3 (ipykernel)",
   "language": "python",
   "name": "python3"
  },
  "language_info": {
   "codemirror_mode": {
    "name": "ipython",
    "version": 3
   },
   "file_extension": ".py",
   "mimetype": "text/x-python",
   "name": "python",
   "nbconvert_exporter": "python",
   "pygments_lexer": "ipython3",
   "version": "3.12.8"
  }
 },
 "nbformat": 4,
 "nbformat_minor": 5
}