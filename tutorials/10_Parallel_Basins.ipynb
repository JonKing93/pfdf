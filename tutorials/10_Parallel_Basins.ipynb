{
 "cells": [
  {
   "cell_type": "markdown",
   "id": "89370b71-02a9-49d2-907c-9f161db04a4d",
   "metadata": {},
   "source": [
    "# Parallelization Tutorial\n",
    "This tutorial shows how to locate outlet basins using multiple CPUs in parallel."
   ]
  },
  {
   "cell_type": "markdown",
   "id": "9e8b8e44-cd2e-49ec-a9cc-38273614384c",
   "metadata": {},
   "source": [
    "## Introduction"
   ]
  },
  {
   "cell_type": "markdown",
   "id": "11444666-e5e2-4e39-8e18-942f26ce7f71",
   "metadata": {},
   "source": [
    "Locating [outlet basins](https://ghsc.code-pages.usgs.gov/lhp/pfdf/guide/glossary.html#def-basin) is one of the most computationally demanding steps in many assessments. As such, parallelizing this task can *sometimes* improve runtime. This tutorial examines how and when to parallelize code that locates basins."
   ]
  },
  {
   "cell_type": "markdown",
   "id": "8b402ce0-b387-414d-ab92-7b298b11c450",
   "metadata": {},
   "source": [
    "## Prerequisites"
   ]
  },
  {
   "cell_type": "markdown",
   "id": "de9bbbc9-79e9-43ab-a004-9ebb16e882bd",
   "metadata": {},
   "source": [
    "### Install pfdf\n",
    "To run this tutorial, you must have installed [pfdf 3+ with tutorial resources](https://ghsc.code-pages.usgs.gov/lhp/pfdf/resources/installation.html#tutorials) in your Jupyter kernel. The following line checks this is the case:"
   ]
  },
  {
   "cell_type": "code",
   "execution_count": null,
   "id": "77409286-33a5-497e-9378-66bb61ab32e9",
   "metadata": {},
   "outputs": [],
   "source": [
    "import check_installation"
   ]
  },
  {
   "cell_type": "markdown",
   "id": "e43d0ffd-49dc-4a98-bdd2-33cc266abd29",
   "metadata": {},
   "source": [
    "### Previous Tutorials"
   ]
  },
  {
   "cell_type": "markdown",
   "id": "9646e2fc-8d73-4bc3-b32e-31fa09d888cf",
   "metadata": {},
   "source": [
    "You must run the [Preprocessing Tutorial](04_Preprocessing.ipynb) before this tutorial. This is because we'll use the preprocessed datasets to derive a stream segment network for this tutorial. The following line checks the workspace for the preprocessed datasets:"
   ]
  },
  {
   "cell_type": "code",
   "execution_count": null,
   "id": "6459111a-fe4a-45d5-91f9-216e474d2707",
   "metadata": {},
   "outputs": [],
   "source": [
    "from tools import workspace\n",
    "workspace.check_preprocessed()"
   ]
  },
  {
   "cell_type": "markdown",
   "id": "1acd279d-d428-4d03-909d-a5c0629f6e20",
   "metadata": {},
   "source": [
    "We also **strongly recommend** completing the [Hazard Assessment Tutorial](05_Hazard_Assessment.ipynb) before this one. This is because this tutorial assumes familiarity with many of the concepts introduced in that tutorial."
   ]
  },
  {
   "cell_type": "markdown",
   "id": "57a854d5-913a-4302-bc29-231abf92c258",
   "metadata": {},
   "source": [
    "### Example Network\n",
    "Next, we'll build an example stream segment network. This process is explored in detail in the [Hazard Assessment Tutorial](05_Hazard_Assessment.ipynb)."
   ]
  },
  {
   "cell_type": "code",
   "execution_count": null,
   "id": "ec7bd3cb-e9e3-443e-9b6b-c74de81d40e6",
   "metadata": {},
   "outputs": [],
   "source": [
    "from tools import examples\n",
    "segments = examples.build_segments()\n",
    "print(segments)"
   ]
  },
  {
   "cell_type": "markdown",
   "id": "5029ba09-ae90-4be7-8ff0-152cff793026",
   "metadata": {},
   "source": [
    "## Locating Basins"
   ]
  },
  {
   "cell_type": "markdown",
   "id": "645db6e2-98ba-40e2-a2fe-165405e07473",
   "metadata": {},
   "source": [
    "You can use the `Segments.locate_basins` command to locate the [outlet basins](https://ghsc.code-pages.usgs.gov/lhp/pfdf/guide/glossary.html#def-basin), and this command is called implicitly by commands that require the basins. Since locating basins is computationally expensive, a `Segments` object will store the basin locations internally for later use. This allows subsequent commands that require the basins to proceed much more quickly. Note that these locations will be discarded if the network is later filtered in a way that changes the basins.\n",
    "\n",
    "You can check if a `Segments` object has located basins using the `located_basins` property. This information is also displayed when you print the object. For example, we can see that our example network has not located the outlet basins:"
   ]
  },
  {
   "cell_type": "code",
   "execution_count": null,
   "id": "9eb68ec8-926f-4f02-bab5-26a98374c86b",
   "metadata": {},
   "outputs": [],
   "source": [
    "print(segments.located_basins)"
   ]
  },
  {
   "cell_type": "code",
   "execution_count": null,
   "id": "64eb6b94-ba6b-4963-ad31-41fc90aed10c",
   "metadata": {},
   "outputs": [],
   "source": [
    "print(segments)"
   ]
  },
  {
   "cell_type": "markdown",
   "id": "25e78574-92da-48cd-8167-8f81c9f493f7",
   "metadata": {},
   "source": [
    "But if we locate the basins, we can see this value changes to True:"
   ]
  },
  {
   "cell_type": "code",
   "execution_count": null,
   "id": "23ed6f7a-29f2-4890-a230-63f97d5ee081",
   "metadata": {},
   "outputs": [],
   "source": [
    "segments = segments.copy()\n",
    "segments.locate_basins()"
   ]
  },
  {
   "cell_type": "code",
   "execution_count": null,
   "id": "6908b547-cb66-4f72-9919-0d24f7c5506e",
   "metadata": {},
   "outputs": [],
   "source": [
    "print(segments.located_basins)"
   ]
  },
  {
   "cell_type": "markdown",
   "id": "2d6fe2e5-3544-4d49-8c4f-09bceae7961b",
   "metadata": {},
   "source": [
    "Note that if we remove a segment corresponding to one of the basins, then the basin locations are discarded. For example, segment 340 is one of the terminal segments in our network:"
   ]
  },
  {
   "cell_type": "code",
   "execution_count": null,
   "id": "6ace2a04-cdda-4939-8458-4d22e52cdb24",
   "metadata": {},
   "outputs": [],
   "source": [
    "segments.remove(340, type='ids')\n",
    "print(segments.located_basins)"
   ]
  },
  {
   "cell_type": "markdown",
   "id": "8840d9fa-46f9-4589-bb20-b5d11fc13e01",
   "metadata": {},
   "source": [
    "## How to Parallelize"
   ]
  },
  {
   "cell_type": "markdown",
   "id": "0f6e646e-7e72-4f71-8b45-84086df88c55",
   "metadata": {},
   "source": [
    "By default, the `locate_basins` command locates basins sequentially. However, you can use the `parallel` option to instead locate basins in parallel (using multiple CPUs). However, the use of this option imposes several restrictions:\n",
    "\n",
    "First, the parallelized code must ultimately be run from a command-line Python script. It **cannot** be run in an interactive session. Second, the parallelized code should be protected by a `if __name__ == \"__main__\"` block. For example, the following script illlustrates a hazard assessment with parallelized basins:"
   ]
  },
  {
   "cell_type": "code",
   "execution_count": null,
   "id": "5613737d-da9e-4175-b992-f66922caa342",
   "metadata": {},
   "outputs": [],
   "source": [
    "from pfdf import watershed\n",
    "from pfdf.raster import Raster\n",
    "from pfdf.segments import Segments\n",
    "\n",
    "if __name__ == \"__main__\":\n",
    "\n",
    "    # Watershed analysis\n",
    "    pass\n",
    "\n",
    "    # Delineate a network\n",
    "    pass\n",
    "\n",
    "    # Hazard assessment models\n",
    "    pass\n",
    "\n",
    "    # Locate basins in parallel\n",
    "    segments.locate_basins(parallel=True)\n",
    "\n",
    "    # Export to file\n",
    "    pass"
   ]
  },
  {
   "cell_type": "markdown",
   "id": "09ee6e90-68ec-4702-9148-6e569a53fe81",
   "metadata": {},
   "source": [
    "Most of this code will look familiar to readers of the [assessment tutorial](05_Hazard_Assessment.ipynb). However, there are two critical changes: a new block on line 5, and the `locate_basins` command on line 17.\n",
    "\n",
    "We begin with the `locate_basins` command. Here, the key point is that we've set the `parallel` option to True, thereby instructing the command to locate the basins using multiple CPUs. Since we used the `parallel` option, we'd need to run this script from the command line, using something like:"
   ]
  },
  {
   "cell_type": "raw",
   "id": "d7e111f6-2a8c-405f-8c26-5143ca730a78",
   "metadata": {},
   "source": [
    "python path/to/my_parallel_script.py"
   ]
  },
  {
   "cell_type": "markdown",
   "id": "a083c1ea-42c9-42a4-bf53-dbd2de4dd983",
   "metadata": {},
   "source": [
    "Second, the code in the script must be protected by the `if __name__ == \"__main__\":` block seen on line 5 of the example script. This is essential, because the Python interpreter re-imports the script for each activated CPU. If this block is missing, the re-imported script will reach the part of the code that activates multiple CPUs and will attempt to activate even more CPUs. These CPUs will each then re-import the script, resulting in an infinite loop that will eventually crash the terminal. By contrast, code in a `if __name__ == \"__main__\":` block isn't run when the script is re-imported, thereby preventing the infinite loop."
   ]
  },
  {
   "cell_type": "markdown",
   "id": "6a913de8-8f62-4694-898a-9cce9eaddd29",
   "metadata": {},
   "source": [
    "## When to Parallelize"
   ]
  },
  {
   "cell_type": "markdown",
   "id": "405bc1b1-ebb4-4910-9670-c1367f25304e",
   "metadata": {},
   "source": [
    "Runtime improvements will scale with the number of CPUs and the size of the watershed, so large watersheds will benefit more strongly from parallelization than small watersheds. For very small watersheds, the time spent activating CPUs may exceed the performance boost from parallelization, causing the code to actually run *slower*. Keep this in mind when deciding whether or not to parallelize."
   ]
  },
  {
   "cell_type": "markdown",
   "id": "6427635e-ba5d-49aa-8125-6e7bed337380",
   "metadata": {},
   "source": [
    "### Rule of thumb\n",
    "Parallelization is often appropriate if it takes 10+ minutes to locate the basins."
   ]
  }
 ],
 "metadata": {
  "kernelspec": {
   "display_name": "Python 3 (ipykernel)",
   "language": "python",
   "name": "python3"
  },
  "language_info": {
   "codemirror_mode": {
    "name": "ipython",
    "version": 3
   },
   "file_extension": ".py",
   "mimetype": "text/x-python",
   "name": "python",
   "nbconvert_exporter": "python",
   "pygments_lexer": "ipython3",
   "version": "3.12.8"
  }
 },
 "nbformat": 4,
 "nbformat_minor": 5
}