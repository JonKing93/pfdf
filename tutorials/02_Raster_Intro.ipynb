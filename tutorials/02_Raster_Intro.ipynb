{
 "cells": [
  {
   "cell_type": "markdown",
   "id": "99e2da5b-d8fb-40d8-930d-e61131ef6744",
   "metadata": {},
   "source": [
    "# Raster Intro Tutorial\n",
    "This tutorial provides a brief introduction to the `Raster` class, which facilitates working with raster datasets."
   ]
  },
  {
   "cell_type": "markdown",
   "id": "4c9072fc-3c8a-4e61-a010-36fb6b7a0302",
   "metadata": {},
   "source": [
    "## Introduction"
   ]
  },
  {
   "cell_type": "markdown",
   "id": "ea6c649d-1610-44cf-9055-a966d3a0c607",
   "metadata": {},
   "source": [
    "Raster datasets are fundamental to pfdf - many routines require rasters as input, and many produce new rasters as output. In brief, a raster dataset is a rectangular grid composed of _pixels_, which are rectangular cells with assigned data values. The pixels are regularly spaced along the X and Y axes, and each axis may use its own spacing interval. A raster is usually associated with some spatial metadata, which locates the raster's pixels in space. Some rasters will also have a NoData value - when this is the case, pixels equal to the NoData value represent missing data.\n",
    "\n",
    "A raster's spatial metadata consists of a coordinate reference system (CRS) and an affine transformation matrix (also known as the _transform_). The transform converts the data grid's column indices to spatial coordinates, and the CRS specifies the location of these coordinates on the Earth's surface. A transform defines a raster's resolution and alignment (the location of pixel edges) and takes the form:\n",
    "\n",
    "$$\n",
    "\\begin{vmatrix}\n",
    "dx & 0 & \\mathrm{left}\\\\\n",
    "0 & dy & \\mathrm{top}\n",
    "\\end{vmatrix}\n",
    "$$\n",
    "\n",
    "Here _dx_ and _dy_ are the change in spatial coordinate when incrementing one column or row, and their absolute values define the raster's resolution. Meanwhile, _left_ and _top_ indicate the spatial coordinates of the data grid's left and top edges, which defines the raster's alignment. The two remaining coefficients can be used to implement shear transforms, but pfdf only supports rectangular pixels, so these will always be 0 for our purposes."
   ]
  },
  {
   "cell_type": "markdown",
   "id": "58bb9f29-7edc-423a-aaa7-91945a3cb4f0",
   "metadata": {},
   "source": [
    "To facilitate working with these datasets, pfdf provides the ``Raster`` class. In brief, the class provides routines to\n",
    "\n",
    "* Load and build rasters from a variety of sources,\n",
    "* Manage data values,\n",
    "* Manage spatial metadata,\n",
    "* Preprocess datasets, and\n",
    "* Save rasters to file.\n",
    "\n",
    "This tutorial provides a brief introduction to the `Raster` class, sufficient for implementing a basic hazard assessment. You can also find more detailed discussions in the [Raster Properties](06_Raster_Properties.ipynb), [Raster Factories](07_Raster_Factories.ipynb), and [Preprocessing](04_Preprocessing.ipynb) tutorials."
   ]
  },
  {
   "cell_type": "markdown",
   "id": "e44af651-d84e-497f-920b-7ebf888744d3",
   "metadata": {},
   "source": [
    "## Prerequisites"
   ]
  },
  {
   "cell_type": "markdown",
   "id": "cec547ff-911c-4dba-81f3-cca254c4255d",
   "metadata": {},
   "source": [
    "### Install pfdf\n",
    "To run this tutorial, you must have installed [pfdf 3+ with tutorial resources](https://ghsc.code-pages.usgs.gov/lhp/pfdf/resources/installation.html#tutorials) in your Jupyter kernel. The following line checks this is the case:"
   ]
  },
  {
   "cell_type": "code",
   "execution_count": null,
   "id": "13e1c6b5-ff0c-45c0-8a41-8a24f52cc011",
   "metadata": {},
   "outputs": [],
   "source": [
    "import check_installation"
   ]
  },
  {
   "cell_type": "markdown",
   "id": "ef7d3e20-222c-4ceb-9470-ee8ce314f597",
   "metadata": {},
   "source": [
    "### Example Rasters\n",
    "Next, we'll clean our workspace of any example datasets, and then create an example raster file to use in the tutorial. This dataset is a 50x75 grid of random integers between 0 and 100 with a border of -999 NoData values along the edges. The raster is projected in EPSG:26911 with a 10 meter resolution. "
   ]
  },
  {
   "cell_type": "code",
   "execution_count": null,
   "id": "2fd1b8e6-af37-4d6d-b0e7-accd38a40a7f",
   "metadata": {},
   "outputs": [],
   "source": [
    "from tools import workspace, examples\n",
    "workspace.remove_examples()\n",
    "examples.build_raster()"
   ]
  },
  {
   "cell_type": "markdown",
   "id": "9407b332-9159-4d5a-98e3-37f31b448163",
   "metadata": {},
   "source": [
    "### Imports\n",
    "Finally, we'll import the ``Raster`` class from pfdf, and some small tools to help run the tutorial. We'll also use ``numpy`` to work with raster data grids. (**Note**: Importing `Raster` can take a bit, as Python needs to compile [numba](https://numba.pydata.org/) to do so)."
   ]
  },
  {
   "cell_type": "code",
   "execution_count": null,
   "id": "07e7b4b4-09c1-40ae-a622-dbb03c45569a",
   "metadata": {},
   "outputs": [],
   "source": [
    "from pfdf.raster import Raster\n",
    "from tools import print_path\n",
    "import numpy as np"
   ]
  },
  {
   "cell_type": "markdown",
   "id": "4954b5d9-d410-4dc9-9f49-6845df9e79c0",
   "metadata": {},
   "source": [
    "## Raster Objects"
   ]
  },
  {
   "cell_type": "markdown",
   "id": "b22effb2-9e24-4b50-8575-58bc04dbe92f",
   "metadata": {},
   "source": [
    "The `Raster` class is used to create and manipulate `Raster` objects. Each `Raster` object holds the data grid for a raster dataset, along with associated metadata. Here, we'll use the `from_file` command to create a new `Raster` object from our example raster file. We'll discuss this command [in a later section](#Raster-Factories), but for now, just know that it's creating a `Raster` object from our example dataset:"
   ]
  },
  {
   "cell_type": "code",
   "execution_count": null,
   "id": "6c737f30-9cfb-4e77-bacd-2f9a78a5b11e",
   "metadata": {},
   "outputs": [],
   "source": [
    "raster = Raster.from_file('examples/raster.tif')"
   ]
  },
  {
   "cell_type": "markdown",
   "id": "9a461843-4337-476f-8834-265c0c9597bb",
   "metadata": {},
   "source": [
    "Printing the raster to the console, we can see a summary of the raster's data grid and spatial metadata:"
   ]
  },
  {
   "cell_type": "code",
   "execution_count": null,
   "id": "94d99db8-5ac3-4dd4-8b1a-6e941b0cc533",
   "metadata": {},
   "outputs": [],
   "source": [
    "print(raster)"
   ]
  },
  {
   "cell_type": "markdown",
   "id": "a209608f-4f70-4410-8571-a187d49c846b",
   "metadata": {},
   "source": [
    "## Raster Properties"
   ]
  },
  {
   "cell_type": "markdown",
   "id": "d8dc6b2a-582a-4450-afcc-d6258f776b04",
   "metadata": {},
   "source": [
    "`Raster` objects have a variety of properties that return information of the raster's data grid and metadata. This section only introduces a few common properties, but you can find a more detailed discussion in the [Raster Properties](06_Raster_Properties) tutorial."
   ]
  },
  {
   "cell_type": "markdown",
   "id": "610b8e92-7157-45b7-949e-7b51c905af94",
   "metadata": {},
   "source": [
    "### Data Grid"
   ]
  },
  {
   "cell_type": "markdown",
   "id": "89927e00-c1c3-45f6-b48c-4610de311b08",
   "metadata": {},
   "source": [
    "You can use the `values` property to return a `Raster` object's data grid as a numpy array. For our example dataset, the data is an array of random integers, with a border of -999 NoData values along the edges:"
   ]
  },
  {
   "cell_type": "code",
   "execution_count": null,
   "id": "0308cd8e-7afd-4456-833d-85d6cff1e098",
   "metadata": {},
   "outputs": [],
   "source": [
    "print(raster.values)"
   ]
  },
  {
   "cell_type": "markdown",
   "id": "8690045d-386d-4ed6-ae8d-8f02fdeb91d5",
   "metadata": {},
   "source": [
    "The raster values are read-only. This means they'll work fine for most mathematical routines, but you'll need to make a copy if you want to alter the data elements directly. For example:"
   ]
  },
  {
   "cell_type": "code",
   "execution_count": null,
   "id": "f836b83f-6488-4fe8-b62b-ff7d23bb7820",
   "metadata": {},
   "outputs": [],
   "source": [
    "# Most routines are fine\n",
    "median = np.median(raster.values)\n",
    "print(median)"
   ]
  },
  {
   "cell_type": "code",
   "execution_count": null,
   "id": "254eb7d7-242f-4845-af2b-f3add0452fc3",
   "metadata": {},
   "outputs": [],
   "source": [
    "# But this will fail because it attempts to alter array elements\n",
    "try:\n",
    "    raster.values[0,:] = 0\n",
    "except Exception as error:\n",
    "    print('Failed because we attempted to alter the array directly')"
   ]
  },
  {
   "cell_type": "code",
   "execution_count": null,
   "id": "f6046640-cc71-448a-a278-9389db71656d",
   "metadata": {},
   "outputs": [],
   "source": [
    "# This is fine because we copied the array first\n",
    "values = raster.values.copy()\n",
    "values[0,:] = 0\n",
    "print(values)"
   ]
  },
  {
   "cell_type": "markdown",
   "id": "2b8888da-2b8c-4941-b074-d778acc5cc47",
   "metadata": {},
   "source": [
    "### Array Metadata\n",
    "`Raster` objects have properties to report the data array's metadata. Some useful properties include:\n",
    "\n",
    "* `shape`: The shape of the data array\n",
    "* `dtype`: The data type of the dataset\n",
    "* `nodata`: The NoData value\n",
    "* `nbytes`: The size of the array in bytes.\n",
    "\n",
    "For example, inspecting these properties for our example raster, we see the data grid is 50 x 75 pixels, uses a 64-bit integer data type, has a NoData value of -999, and uses 30 KB of memory:"
   ]
  },
  {
   "cell_type": "code",
   "execution_count": null,
   "id": "ad2ce361-87a1-4aaa-a20f-bd3287272eaf",
   "metadata": {},
   "outputs": [],
   "source": [
    "print(raster.shape)\n",
    "print(raster.dtype)\n",
    "print(raster.nodata)\n",
    "print(raster.nbytes)"
   ]
  },
  {
   "cell_type": "markdown",
   "id": "3b202503-5007-4732-9ad3-f256a6886823",
   "metadata": {},
   "source": [
    "## Spatial Metadata"
   ]
  },
  {
   "cell_type": "markdown",
   "id": "f8ba5c3e-dfc9-48ff-8d71-ed507b6f3139",
   "metadata": {},
   "source": [
    "Other properties return the raster's spatial metadata. The most commonly used properties include:\n",
    "\n",
    "* `crs`: The coordinate reference system as a [pyproj.crs](https://pyproj4.github.io/pyproj/stable/api/crs/crs.html) object,\n",
    "* `transform`: The affine transform as a [pfdf.projection.Transform](https://ghsc.code-pages.usgs.gov/lhp/pfdf/api/projection/transform.html) object, and\n",
    "* `bounds`: The bounding box as a [pfdf.projection.BoundingBox](https://ghsc.code-pages.usgs.gov/lhp/pfdf/api/projection/bbox.html) object\n",
    "\n",
    "You can learn more about these metadata objects in the [Spatial Metadata](08_Spatial_Metadata.ipynb) tutorial.\n",
    "\n",
    "Inspecting our example `Raster`, we can see it is projected in EPSG:26911, has a resolution of 10 CRS units (in this case, meters), and spans from 0 to 750 along the X axis, and from -500 to 0 along the Y axis:"
   ]
  },
  {
   "cell_type": "code",
   "execution_count": null,
   "id": "f675c829-2579-458b-9dbc-8512e73a3cf1",
   "metadata": {},
   "outputs": [],
   "source": [
    "raster.crs"
   ]
  },
  {
   "cell_type": "code",
   "execution_count": null,
   "id": "40df72b9-9a1b-4eb3-bae8-bede751285fb",
   "metadata": {},
   "outputs": [],
   "source": [
    "raster.transform"
   ]
  },
  {
   "cell_type": "code",
   "execution_count": null,
   "id": "0eb1ff3d-232d-44de-8765-7d8b3ccdb815",
   "metadata": {},
   "outputs": [],
   "source": [
    "raster.bounds"
   ]
  },
  {
   "cell_type": "markdown",
   "id": "7bf4c351-7e46-4a91-a5e7-2f06b6c866f2",
   "metadata": {},
   "source": [
    "## Raster Factories\n",
    "To create a `Raster` object, you should use a `Raster` factory method. These methods build new `Raster` objects from different types of data sources. The factories follow the naming convention `from_<type>`, where `<type>` is a particular type of data source. Some common factories include:\n",
    "\n",
    "* `from_file`: Loads a raster from the local filesystem,\n",
    "* `from_url`: Loads a raster from a web URL\n",
    "* `from_array`: Builds a raster from a numpy array\n",
    "* `from_points`: Builds a raster from a collection of Point or MultiPoint features\n",
    "* `from_polygons`: Builds a raster from a collection of Polygon or MultiPolygon features\n",
    "\n",
    "Each factory includes options for building `Raster` objects from the associated data source. For example, `from_file` includes an option to only load data in an area of interest, and `from_url` includes options for connecting to the remote server. You can find a detailed discussion of these factories in the [Raster Factory Tutorial](07_Raster_Factories.ipynb)."
   ]
  },
  {
   "cell_type": "markdown",
   "id": "7bddff41-6847-4656-a9ae-29bb1832a762",
   "metadata": {},
   "source": [
    "## Saving Rasters"
   ]
  },
  {
   "cell_type": "markdown",
   "id": "c19ce27b-1f09-4d25-b68b-4a0272ab5321",
   "metadata": {},
   "source": [
    "It's often useful to save a `Raster` object to file, particularly when an analytical routine produces a new raster dataset as output. You can save `Raster` objects using the `save` command. This command takes a file name or path as input, and returns the path to the saved file as output. For example:"
   ]
  },
  {
   "cell_type": "code",
   "execution_count": null,
   "id": "4669a12c-6ef8-4c45-9a65-826cb33d5ae5",
   "metadata": {},
   "outputs": [],
   "source": [
    "path = raster.save('examples/my-raster.tif')\n",
    "print_path(path)"
   ]
  },
  {
   "cell_type": "markdown",
   "id": "d54a7c22-fd35-4a2a-a3be-a17e47858e46",
   "metadata": {},
   "source": [
    "By default, the `save` command will not allow you to overwrite existing files. For example, calling the `save` command a second time with the same file name will fail because the file already exists:"
   ]
  },
  {
   "cell_type": "code",
   "execution_count": null,
   "id": "3b151b4d-e747-4646-8a83-91aebe05b049",
   "metadata": {},
   "outputs": [],
   "source": [
    "try:\n",
    "    raster.save('examples/my-raster.tif')\n",
    "except FileExistsError:\n",
    "    print('Failed because the file already exists')"
   ]
  },
  {
   "cell_type": "markdown",
   "id": "dbed35e6-f0b2-4698-9752-676b0af57707",
   "metadata": {},
   "source": [
    "You can permit overwriting by setting `overwrite=True`:"
   ]
  },
  {
   "cell_type": "code",
   "execution_count": null,
   "id": "c5ecfc65-a43a-4b89-99d5-9360adf35d5d",
   "metadata": {},
   "outputs": [],
   "source": [
    "raster.save('examples/my-raster.tif', overwrite=True)\n",
    "print('overwrote the existing file')"
   ]
  },
  {
   "cell_type": "markdown",
   "id": "bb6d4390-bc9c-400c-9fe3-5f83f2055a81",
   "metadata": {},
   "source": [
    "## Conclusion\n",
    "\n",
    "In this tutorial, we've introduced the `Raster` class, which facilitates working with raster datasets. We've seen how to access a `Raster` object's data array, and examined properties with important metadata. We've learned that `Raster` objects are created using dedicated factory methods, and we've seen how to save raster datasets to file.\n",
    "\n",
    "This tutorial was deliberately brief, and later tutorials examine the class in greater detail. As a reminder, you can learn more about `Raster` objects in the [Raster Properties](06_Raster_Properties.ipynb), [Raster Factories](07_Raster_Factories.ipynb), and [Preprocessing](04_Preprocessing.ipynb) tutorials. In the [next tutorial](03_Download_Data.ipynb), we'll see how to use the `data` package to download commonly used datasets (many of which are rasters) from the internet."
   ]
  }
 ],
 "metadata": {
  "kernelspec": {
   "display_name": "Python 3 (ipykernel)",
   "language": "python",
   "name": "python3"
  },
  "language_info": {
   "codemirror_mode": {
    "name": "ipython",
    "version": 3
   },
   "file_extension": ".py",
   "mimetype": "text/x-python",
   "name": "python",
   "nbconvert_exporter": "python",
   "pygments_lexer": "ipython3",
   "version": "3.12.8"
  }
 },
 "nbformat": 4,
 "nbformat_minor": 5
}