{
 "cells": [
  {
   "cell_type": "markdown",
   "id": "a7a4d33a-fc44-452b-98b6-a59c4cfe5f2a",
   "metadata": {},
   "source": [
    "# Spatial Metadata Tutorial"
   ]
  },
  {
   "cell_type": "markdown",
   "id": "bbf8cdba-67c6-4604-98c2-b039f59a96b3",
   "metadata": {},
   "source": [
    "This tutorial demonstrates how to use the `projection.Transform` and `projection.BoundingBox` classes."
   ]
  },
  {
   "cell_type": "markdown",
   "id": "2413d340-c92b-4cb7-abac-17bb1113f2ad",
   "metadata": {},
   "source": [
    "## Introduction"
   ]
  },
  {
   "cell_type": "markdown",
   "id": "e4bfb860-fc71-4f04-b34e-b6e3ca4996d9",
   "metadata": {},
   "source": [
    "The [Transform](https://ghsc.code-pages.usgs.gov/lhp/pfdf/api/projection/transform.html) and [BoundingBox](https://ghsc.code-pages.usgs.gov/lhp/pfdf/api/projection/bbox.html) classes provide information used to spatially locate a raster dataset. In addition to spatial locations, the classes also provide various routines to help facilitate geospatial processing and reprojections. The BoundingBox class is often more useful for geospatial processing, as it provides information on the latitude of a dataset, whereas the Transform class does not. This latitude information is useful when working with angular (geographic) coordinate reference systesms, as the absolute width of longitude units will vary with the latitude of the dataset.\n",
    "\n",
    "That said, Transform objects provide useful information on pixel resolution and geometries not available from BoundingBox objects. Furthermore, many open-source geospatial libraries rely on affine Transforms to manage raster datasets, so geospatial developers will likely want to use both classes.\n",
    "\n",
    "Conceptually, Transform and BoundingBox objects both rely on 4 values relating to spatial coordinates. Each also supports an optional CRS, which locates the spatial coordinates on the Earth's surface. The two classes include options to convert distances between CRS units (referred to as \"base\" units) and explicit metric or imperial units. If you do not provide a CRS, then the object's base units are ambiguous, and the class cannot convert to metric or imperial units. As such, we recommend including CRS information whenever possible."
   ]
  },
  {
   "cell_type": "markdown",
   "id": "8135a823-8482-439b-be6f-83096a62042b",
   "metadata": {},
   "source": [
    "## Prerequisites"
   ]
  },
  {
   "cell_type": "markdown",
   "id": "6350e797-96a8-4f16-8f62-edfe9d1f26b2",
   "metadata": {},
   "source": [
    "### Install pfdf\n",
    "To run this tutorial, you must have installed [pfdf 3+ with tutorial resources](https://ghsc.code-pages.usgs.gov/lhp/pfdf/resources/installation.html#tutorials) in your Jupyter kernel. The following line checks this is the case:"
   ]
  },
  {
   "cell_type": "code",
   "execution_count": null,
   "id": "044a77b6-4447-4f9a-a4f1-c092332910b3",
   "metadata": {},
   "outputs": [],
   "source": [
    "import check_installation"
   ]
  },
  {
   "cell_type": "markdown",
   "id": "bb19951c-70f6-410d-ad5c-f1a2ce43c8c9",
   "metadata": {},
   "source": [
    "## BoundingBox Objects"
   ]
  },
  {
   "cell_type": "markdown",
   "id": "d0ad9314-7e5d-4131-9313-0c4a550f36ea",
   "metadata": {},
   "source": [
    "You can use `BoundingBox` objects to locate the spatial coordinates of a raster's edges. These objects include a number of methods useful for geospatial manipulations including: locating a raster's center, reprojection, buffering, and identifying UTM zones. You can also convert a BoundingBox to a Transform object when combined with a raster shape."
   ]
  },
  {
   "cell_type": "code",
   "execution_count": null,
   "id": "b73669f8-2c6a-4b21-9cb0-f4ff60fccecd",
   "metadata": {},
   "outputs": [],
   "source": [
    "from pfdf.projection import BoundingBox"
   ]
  },
  {
   "cell_type": "markdown",
   "id": "2340b540-09de-41c0-99d5-29e57272af10",
   "metadata": {},
   "source": [
    "A `BoundingBox` relies on the following 4 properties:\n",
    "\n",
    "| Property | Description |\n",
    "| -------- | ----------- |\n",
    "| `left` | The X coordinate of the box's left edge |\n",
    "| `bottom` | The Y coordinate of the box's bottom edge |\n",
    "| `right` | The X coordinate of the box's right edge |\n",
    "| `top` | The Y coordinate of the box's top edge |\n",
    "\n",
    "and an optional `crs` property locates these X and Y coordinates on the Earth's surface."
   ]
  },
  {
   "cell_type": "markdown",
   "id": "b91c50cb-ee4d-4214-a463-c352f98a2a5c",
   "metadata": {},
   "source": [
    "### Create BoundingBox"
   ]
  },
  {
   "cell_type": "markdown",
   "id": "3ce17aae-a4a4-434f-84fa-f8fd0aa545a4",
   "metadata": {},
   "source": [
    "#### Constructor"
   ]
  },
  {
   "cell_type": "markdown",
   "id": "259baf6c-f3c4-4f03-830e-cade9d2818ee",
   "metadata": {},
   "source": [
    "You can use the BoundingBox constructor to create a new BoundingBox object. The constructor has four required arguments: `left`, `bottom`, `right`, and `top`. It also accepts an optional `crs` argument:"
   ]
  },
  {
   "cell_type": "code",
   "execution_count": null,
   "id": "71ed207d-1212-4bd7-88e8-40c74b72f787",
   "metadata": {},
   "outputs": [],
   "source": [
    "# With CRS\n",
    "BoundingBox(left=-117.95, bottom=34.15, right=-117.85, top=34.20, crs=4326)"
   ]
  },
  {
   "cell_type": "code",
   "execution_count": null,
   "id": "f996abb1-5f2c-41ef-81bc-bb922f0554f0",
   "metadata": {},
   "outputs": [],
   "source": [
    "# Without CRS\n",
    "BoundingBox(left=-117.95, bottom=34.15, right=-117.85, top=34.20)"
   ]
  },
  {
   "cell_type": "markdown",
   "id": "275202cc-ad65-4441-8457-ce537d176cfc",
   "metadata": {},
   "source": [
    "Note that you may use any CRS - you are not required to use WGS-84. For example, let's create a BoundingBox defined in EPSG:26911, which uses units of meters:"
   ]
  },
  {
   "cell_type": "code",
   "execution_count": null,
   "id": "5dfc542e-d90a-4917-bf2f-8b52db98827e",
   "metadata": {},
   "outputs": [],
   "source": [
    "BoundingBox(left=408022.1201, bottom=3782655.5413, right=415957.1201, top=3789055.5413, crs=26911)"
   ]
  },
  {
   "cell_type": "markdown",
   "id": "e8dedf03-431d-411a-8cfd-2adce3cc8daa",
   "metadata": {},
   "source": [
    "#### from_dict and from_list"
   ]
  },
  {
   "cell_type": "markdown",
   "id": "a6c972ce-f35f-4818-b534-84d0d00d33bb",
   "metadata": {},
   "source": [
    "Alternatively, you can use the `from_dict` or `from_list` methods to create a BoundingBox from a dict or list/tuple:"
   ]
  },
  {
   "cell_type": "code",
   "execution_count": null,
   "id": "54bb421c-b033-4eff-af40-4c461a406cc4",
   "metadata": {},
   "outputs": [],
   "source": [
    "# From a dict. The CRS key is optional\n",
    "input = {'left': -117.95, 'bottom': 34.15, 'right': -117.85, 'top': 34.20, 'crs': 4326}\n",
    "BoundingBox.from_dict(input)"
   ]
  },
  {
   "cell_type": "code",
   "execution_count": null,
   "id": "2d45a151-9042-497f-93c6-00663432a6a2",
   "metadata": {},
   "outputs": [],
   "source": [
    "# From a list or tuple. The fifth element (CRS) is optional\n",
    "BoundingBox.from_list([-117.95, 34.15, -117.85, 34.20, 4326])"
   ]
  },
  {
   "cell_type": "markdown",
   "id": "4f17a2f4-6f6f-4eaf-a79f-d2fc26c12771",
   "metadata": {},
   "source": [
    "Conversely, you can convert a BoundingBox to a dict or list using the `tolist` and `todict` methods:"
   ]
  },
  {
   "cell_type": "code",
   "execution_count": null,
   "id": "1fe71679-d69c-4530-b273-da63d6e673dc",
   "metadata": {},
   "outputs": [],
   "source": [
    "bounds = BoundingBox(-117.95, 34.15, -117.85, 34.20)\n",
    "print(bounds.todict())\n",
    "print(bounds.tolist())"
   ]
  },
  {
   "cell_type": "markdown",
   "id": "147b6202-7c2b-43ff-9276-76d248c9aeeb",
   "metadata": {},
   "source": [
    "### Properties"
   ]
  },
  {
   "cell_type": "markdown",
   "id": "1ef220f0-ed9a-4d9b-b3c9-ac5ffd9f88f6",
   "metadata": {},
   "source": [
    "You can return the spatial coordinates of the left, bottom, right, and top edges using properties of the same name:"
   ]
  },
  {
   "cell_type": "code",
   "execution_count": null,
   "id": "02050359-3f5d-4cb4-ba8d-dfc8a5d902cb",
   "metadata": {},
   "outputs": [],
   "source": [
    "bounds = BoundingBox(-121, 30, -119, 40, crs=4326)\n",
    "print(bounds.left)\n",
    "print(bounds.bottom)\n",
    "print(bounds.right)\n",
    "print(bounds.top)"
   ]
  },
  {
   "cell_type": "markdown",
   "id": "a2eb090d-c846-4553-8b83-5e7e46a87274",
   "metadata": {},
   "source": [
    "Alternatively, you can return the X coordinates of the left and right edges using the `xs` property, and the Y coordinates of the top and bottom edges using the `ys` properties:"
   ]
  },
  {
   "cell_type": "code",
   "execution_count": null,
   "id": "31ee9170-c089-417f-8110-b034c8441619",
   "metadata": {},
   "outputs": [],
   "source": [
    "print(bounds.xs)\n",
    "print(bounds.ys)"
   ]
  },
  {
   "cell_type": "markdown",
   "id": "d9b9f139-4bda-4777-ac43-a6eb4e3f7564",
   "metadata": {},
   "source": [
    "You can also return the (X, Y) coordinate of the box's center using the `center` property:"
   ]
  },
  {
   "cell_type": "code",
   "execution_count": null,
   "id": "49ee88ca-caa4-4a23-943d-6ee9002d9056",
   "metadata": {},
   "outputs": [],
   "source": [
    "bounds.center"
   ]
  },
  {
   "cell_type": "markdown",
   "id": "15078245-1070-40f6-ae74-0f2d2f6cf8a8",
   "metadata": {},
   "source": [
    "The `crs` property returns the box's CRS as a [pyproj.CRS object](https://pyproj4.github.io/pyproj/stable/examples.html):"
   ]
  },
  {
   "cell_type": "code",
   "execution_count": null,
   "id": "85f6d835-ae05-44b7-ba02-261d67b60454",
   "metadata": {},
   "outputs": [],
   "source": [
    "bounds.crs"
   ]
  },
  {
   "cell_type": "markdown",
   "id": "89482ef1-a2f5-4235-97c6-ceafcfbd20d9",
   "metadata": {},
   "source": [
    "and `units` returns the units of the CRS along the X and Y axes:"
   ]
  },
  {
   "cell_type": "code",
   "execution_count": null,
   "id": "782edee8-fe8a-4964-ab9a-f6fc8908224c",
   "metadata": {},
   "outputs": [],
   "source": [
    "bounds.units"
   ]
  },
  {
   "cell_type": "markdown",
   "id": "9ceae3cc-3261-479f-bae4-862e12716d90",
   "metadata": {},
   "source": [
    "And you can use `units_per_m` to convert these units to meters:"
   ]
  },
  {
   "cell_type": "code",
   "execution_count": null,
   "id": "72845e7c-e482-4574-b826-2e657f7512f4",
   "metadata": {},
   "outputs": [],
   "source": [
    "bounds.units_per_m"
   ]
  },
  {
   "cell_type": "markdown",
   "id": "4de7bf9c-1718-49d7-8f78-59fa5ac65eb2",
   "metadata": {},
   "source": [
    "For angular (geographic) coordinate systems, the number of X units per meter will depend on the latitude of the dataset because longitude units become shorter at higher latitudes. Here, the reported X units per meter is specifically the value at the center of the BoundingBox.\n",
    "\n",
    "Finally, the `orientation` property returns the Cartesian quadrant that would contain the box if the origin point were defined as the box's minimum (X, Y) coordinate. Equivalently, the orientation indicates whether left <= right, and whether bottom <= top. For example:"
   ]
  },
  {
   "cell_type": "code",
   "execution_count": null,
   "id": "a4978ec4-dd1f-46fd-a98e-e0c4cb3a18a7",
   "metadata": {},
   "outputs": [],
   "source": [
    "BoundingBox(0, 2, 10, 5).orientation"
   ]
  },
  {
   "cell_type": "code",
   "execution_count": null,
   "id": "c3ef7152-1e9e-4e6f-b2a3-deb37a11273c",
   "metadata": {},
   "outputs": [],
   "source": [
    "BoundingBox(10, 2, 0, 5).orientation"
   ]
  },
  {
   "cell_type": "code",
   "execution_count": null,
   "id": "adb1fd44-4e6d-40e3-999d-508bca61baf3",
   "metadata": {},
   "outputs": [],
   "source": [
    "BoundingBox(10, 5, 0, 2).orientation"
   ]
  },
  {
   "cell_type": "code",
   "execution_count": null,
   "id": "ac1f5ffd-c896-4351-94ca-2bf9d5f0173a",
   "metadata": {},
   "outputs": [],
   "source": [
    "BoundingBox(0, 5, 10, 2).orientation"
   ]
  },
  {
   "cell_type": "markdown",
   "id": "fee084e4-49dd-4d2f-91db-0369d184d77b",
   "metadata": {},
   "source": [
    "### Height and Width"
   ]
  },
  {
   "cell_type": "markdown",
   "id": "342b8075-985b-46b6-a1fc-1ac75d32b096",
   "metadata": {},
   "source": [
    "Use the `height` method to return the distance between the top and bottom edges of the BoundingBox. Similarly, use `width` to return the distance between left and right. By default, these methods return values in CRS base units, but you can use the `units` option to return values in other units instead:"
   ]
  },
  {
   "cell_type": "code",
   "execution_count": null,
   "id": "ed691934-6f63-46e3-9cc4-9e44f0ceaf66",
   "metadata": {},
   "outputs": [],
   "source": [
    "# CRS base units\n",
    "bounds = BoundingBox(-121, 30, -119, 35, crs=4326)\n",
    "print(bounds.height())\n",
    "print(bounds.width())"
   ]
  },
  {
   "cell_type": "code",
   "execution_count": null,
   "id": "a67272b4-a7da-4c02-bc7b-f3d98c77aae1",
   "metadata": {},
   "outputs": [],
   "source": [
    "# In kilometers\n",
    "print(bounds.height('kilometers'))\n",
    "print(bounds.width('kilometers'))"
   ]
  },
  {
   "cell_type": "markdown",
   "id": "995e6119-e7af-4ff6-be0e-7e26b7b83cbd",
   "metadata": {},
   "source": [
    "#### Note\n",
    "The `height` and `width` methods always return positive values. If orientation is important, you can alternatively use `xdisp` to return (right - left) and `ydisp` to return (top - bottom). These two values may be negative, depending on the orientation of the box."
   ]
  },
  {
   "cell_type": "markdown",
   "id": "83df0dc7-2f12-4bae-b612-76bb7b0bdd01",
   "metadata": {},
   "source": [
    "### Reprojection\n",
    "BoundingBox objects provide several methods to support CRS reprojection. The `utm_zone` method returns the CRS of the UTM zone overlapping the box's center:"
   ]
  },
  {
   "cell_type": "code",
   "execution_count": null,
   "id": "ceb1abd2-bbfe-4b91-ba19-0292ff0109ca",
   "metadata": {},
   "outputs": [],
   "source": [
    "bounds = BoundingBox(-121, 30, -119, 35, crs=4326)\n",
    "bounds.utm_zone()"
   ]
  },
  {
   "cell_type": "markdown",
   "id": "bc8d29cd-513a-40a9-a8a0-d72bcbec322a",
   "metadata": {},
   "source": [
    "and the `reproject` method returns a copy of the box reprojected to the indicated CRS:"
   ]
  },
  {
   "cell_type": "code",
   "execution_count": null,
   "id": "47855a27-2899-49bb-b109-cd03e9e13902",
   "metadata": {},
   "outputs": [],
   "source": [
    "bounds = BoundingBox(-121, 30, -119, 35, crs=4326)\n",
    "bounds.reproject(crs=26911)"
   ]
  },
  {
   "cell_type": "markdown",
   "id": "7642c767-aa7a-4f49-9728-c5f287bc651d",
   "metadata": {},
   "source": [
    "Two convenience methods provide quick reprojection to common CRSs. The `to_utm` method reprojects the box to the UTM zone overlapping the center point, and `to_4326` reprojects the box to EPSG:4326 (often referred to as WGS 84):"
   ]
  },
  {
   "cell_type": "code",
   "execution_count": null,
   "id": "6d9de18b-b4e2-4f24-a151-f921cd5ca4b0",
   "metadata": {},
   "outputs": [],
   "source": [
    "bounds = BoundingBox(1.1e5, 3.3e6, 3.1e5, 3.8e6, crs=26911)\n",
    "print(bounds.to_utm())\n",
    "print(bounds.to_4326())"
   ]
  },
  {
   "cell_type": "markdown",
   "id": "362bcccf-ffc3-4769-a0c6-06ef696b996c",
   "metadata": {},
   "source": [
    "### Misc\n",
    "You can use the `orient` method to return a copy of the BoundingBox in the requested orientation. By default, this method places the box in the first Cartesian quadrant, but you can optionally specify a different quadrant instead:"
   ]
  },
  {
   "cell_type": "code",
   "execution_count": null,
   "id": "7d7944a1-1b55-4a06-bb51-31a9631f1837",
   "metadata": {},
   "outputs": [],
   "source": [
    "# Reorient into the first quadrant\n",
    "bounds = BoundingBox(100, 8, 50, 1)\n",
    "bounds.orient()"
   ]
  },
  {
   "cell_type": "code",
   "execution_count": null,
   "id": "631c8f18-929e-4532-9af4-ab80527bba4c",
   "metadata": {},
   "outputs": [],
   "source": [
    "# Or other quadrants\n",
    "print(bounds.orient(2))\n",
    "print(bounds.orient(3))\n",
    "print(bounds.orient(4))"
   ]
  },
  {
   "cell_type": "markdown",
   "id": "8d24e790-57d9-45d8-aafe-285ae8d88a3a",
   "metadata": {},
   "source": [
    "Separately, you can use the `buffer` method to return a copy of the box that has been buffered by a specified distance:"
   ]
  },
  {
   "cell_type": "code",
   "execution_count": null,
   "id": "50d61c10-ddb4-48d0-b192-8c7c7c9ac0cf",
   "metadata": {},
   "outputs": [],
   "source": [
    "# Buffer all edges the same amount\n",
    "bounds = BoundingBox(50, 0, 2000, 4000, crs=26911)\n",
    "bounds.buffer(2, units='kilometers')"
   ]
  },
  {
   "cell_type": "code",
   "execution_count": null,
   "id": "fccfb963-e323-4b77-b984-27ff9c50913c",
   "metadata": {},
   "outputs": [],
   "source": [
    "# Buffer edges by specific distances\n",
    "bounds.buffer(left=0, right=12, bottom=100, top=50)"
   ]
  },
  {
   "cell_type": "markdown",
   "id": "fa30a84b-2ac4-474c-b6fa-6e46c7e8f900",
   "metadata": {},
   "source": [
    "### Transform Conversion\n",
    "When combined with a raster shape, a BoundingBox can be converted to a Transform object. This can be useful if you need to determine resolution or pixel geometries for the raster. To convert a BoundingBox object, use the `transform` method with a raster shape:"
   ]
  },
  {
   "cell_type": "code",
   "execution_count": null,
   "id": "0524666b-1dc3-437e-8aba-8dbe650d217e",
   "metadata": {},
   "outputs": [],
   "source": [
    "# BoundingBox and raster shape\n",
    "bounds = BoundingBox(50, 0, 2000, 4000, crs=26911)\n",
    "nrows, ncols = (1000, 200)\n",
    "\n",
    "# Convert to Transform\n",
    "bounds.transform(nrows, ncols)"
   ]
  },
  {
   "cell_type": "markdown",
   "id": "5547a491-c6c7-42b9-ae78-7ab199b936cc",
   "metadata": {},
   "source": [
    "## Transform Objects"
   ]
  },
  {
   "cell_type": "markdown",
   "id": "171983ab-4ddb-4271-9cf6-46627bfa1d2d",
   "metadata": {},
   "source": [
    "You can use `Transform objects` to describe a raster's affine transformation matrix. These objects include a number of methods with information on pixel geometries and resolution. You can also convert a Transform to a BoundingBox object when combined with a raster shape."
   ]
  },
  {
   "cell_type": "code",
   "execution_count": null,
   "id": "398d08b1-51ae-4e1f-8fab-3a273d62ee33",
   "metadata": {},
   "outputs": [],
   "source": [
    "from pfdf.projection import Transform"
   ]
  },
  {
   "cell_type": "markdown",
   "id": "68feb69e-2bef-4d8f-b839-9c2e9a3057bd",
   "metadata": {},
   "source": [
    "A Transform relies on the following 4 values:\n",
    "\n",
    "| Property | Description |\n",
    "| -------- | ----------- |\n",
    "| `dx` | The change in X coordinate when moving one pixel right |\n",
    "| `dy` | The change in Y coordinate when moving one pixel down |\n",
    "| `left` | The X coordinate of the left edge of the raster |\n",
    "| `top` | The Y coordinate of the top edge of the raster |\n",
    "\n",
    "and an optional `crs` property determines the location of X and Y coordinates on the Earth's surface."
   ]
  },
  {
   "cell_type": "markdown",
   "id": "056b6435-b26a-452d-931a-5433fa8272bb",
   "metadata": {},
   "source": [
    "### Create Transform\n",
    "You can use the Transform constructor to create a new Transform object. The constructor has four required arguments: `dx`, `dy`, `left`, and `top` and an optional `crs` argument:"
   ]
  },
  {
   "cell_type": "code",
   "execution_count": null,
   "id": "c2691975-b166-4fee-9e48-3816a0e358f0",
   "metadata": {},
   "outputs": [],
   "source": [
    "# With CRS\n",
    "Transform(10, -10, 5000, 19, crs=26911)"
   ]
  },
  {
   "cell_type": "code",
   "execution_count": null,
   "id": "20672859-80ec-469e-9268-8ec7c5bf2305",
   "metadata": {},
   "outputs": [],
   "source": [
    "# Without CRS\n",
    "Transform(dx=10, dy=-10, left=5000, top=19)"
   ]
  },
  {
   "cell_type": "markdown",
   "id": "080cf6e2-d7d9-41b5-a322-34b1e96edd1a",
   "metadata": {},
   "source": [
    "Alternatively, you can use the `from_dict`, `from_list`, and `from_affine` commands to create a Transform from a dict, list, tuple, or [affine.Affine object](https://pypi.org/project/affine/):"
   ]
  },
  {
   "cell_type": "code",
   "execution_count": null,
   "id": "91de1362-64d3-467c-a2cd-751db96ee514",
   "metadata": {},
   "outputs": [],
   "source": [
    "# From a dict. CRS key is optional\n",
    "input = {'dx': 10, 'dy': -10, 'left': 5000, 'top': 19, 'crs': 26911}\n",
    "Transform.from_dict(input)"
   ]
  },
  {
   "cell_type": "code",
   "execution_count": null,
   "id": "3d8ccd01-c920-4ef7-bbe9-eee06f9b2eb6",
   "metadata": {},
   "outputs": [],
   "source": [
    "# From a list or tuple. Fifth element (CRS) is optional\n",
    "Transform.from_list([10, -10, 5000, 19, 26911])"
   ]
  },
  {
   "cell_type": "code",
   "execution_count": null,
   "id": "4de28737-d2d2-4318-a7e5-43c00fd977a4",
   "metadata": {},
   "outputs": [],
   "source": [
    "# From an affine.Affine object\n",
    "from affine import Affine\n",
    "input = Affine(10, 0, 5000, 0, -10, 19)\n",
    "Transform.from_affine(input)"
   ]
  },
  {
   "cell_type": "markdown",
   "id": "ac0a3b7c-19ea-4366-955a-42510afc22ba",
   "metadata": {},
   "source": [
    "Conversely, you can convert a Transform to a dict or list using the `tolist` and `todict` methods:"
   ]
  },
  {
   "cell_type": "code",
   "execution_count": null,
   "id": "f409912e-25d1-4274-ac0b-fd8f6e7bfb6e",
   "metadata": {},
   "outputs": [],
   "source": [
    "transform = Transform(10, -10, 5000, 19)\n",
    "print(transform.todict())\n",
    "print(transform.tolist())"
   ]
  },
  {
   "cell_type": "markdown",
   "id": "7b03ec9e-549a-4489-81f1-6e23a6b781d7",
   "metadata": {},
   "source": [
    "### Properties\n",
    "You can return left and top using properties of the same name:"
   ]
  },
  {
   "cell_type": "code",
   "execution_count": null,
   "id": "f4572f76-bf0c-4407-b569-be5fff93b680",
   "metadata": {},
   "outputs": [],
   "source": [
    "print(transform.left)\n",
    "print(transform.top)"
   ]
  },
  {
   "cell_type": "markdown",
   "id": "979a5c37-7db1-4d55-9e79-669f37717dac",
   "metadata": {},
   "source": [
    "and `crs` returns the CRS as a [pyproj.crs](https://pyproj4.github.io/pyproj/stable/examples.html):"
   ]
  },
  {
   "cell_type": "code",
   "execution_count": null,
   "id": "2bf3c2c8-e205-4ca4-8946-e7f664e1e2f7",
   "metadata": {},
   "outputs": [],
   "source": [
    "transform = Transform(10, -10, 5000, 19, 26911)\n",
    "transform.crs"
   ]
  },
  {
   "cell_type": "markdown",
   "id": "2b4b02c1-43df-4f28-878c-7a4ae25fa94f",
   "metadata": {},
   "source": [
    "You can also query the base units of the CRS (along the X and Y axes) using the `units` property:"
   ]
  },
  {
   "cell_type": "code",
   "execution_count": null,
   "id": "c06ed38c-bea4-4b50-96d7-2ce55b0b3522",
   "metadata": {},
   "outputs": [],
   "source": [
    "transform.units"
   ]
  },
  {
   "cell_type": "markdown",
   "id": "ae95f704-9722-47b2-bd3d-c9e2d5ac44b2",
   "metadata": {},
   "source": [
    "The `affine` property returns the Transform as an `affine.Affine` object suitable for coordinate mathematics:"
   ]
  },
  {
   "cell_type": "code",
   "execution_count": null,
   "id": "b47fc1e6-c013-4f22-b9fd-30c9b752fcca",
   "metadata": {},
   "outputs": [],
   "source": [
    "transform.affine"
   ]
  },
  {
   "cell_type": "markdown",
   "id": "c03a3585-f689-4f43-b4dc-8bb7564a3b00",
   "metadata": {},
   "source": [
    "and `orientation` returns the Cartesian quadrant that would contain the raster if the origin point were defined using the raster's minimum X and Y coordinates. Equivalently, the quadrant is determined by the sign of the `dx` and `dy` values:"
   ]
  },
  {
   "cell_type": "code",
   "execution_count": null,
   "id": "47f53134-2d74-4f75-b67d-b8770355c32c",
   "metadata": {},
   "outputs": [],
   "source": [
    "Transform(1,-1,0,0).orientation"
   ]
  },
  {
   "cell_type": "code",
   "execution_count": null,
   "id": "3c82ec85-843b-407b-aaf5-e1db4b53cd1b",
   "metadata": {},
   "outputs": [],
   "source": [
    "Transform(-1,-1,0,0).orientation"
   ]
  },
  {
   "cell_type": "code",
   "execution_count": null,
   "id": "8f4601b1-66ff-4703-af04-d7862181c0ba",
   "metadata": {},
   "outputs": [],
   "source": [
    "Transform(-1,1,0,0).orientation"
   ]
  },
  {
   "cell_type": "code",
   "execution_count": null,
   "id": "0005ebe6-6431-4fec-b549-0f08f277d5c4",
   "metadata": {},
   "outputs": [],
   "source": [
    "Transform(1,1,0,0).orientation"
   ]
  },
  {
   "cell_type": "markdown",
   "id": "f6308e77-d8ea-4349-afe3-c28f83663052",
   "metadata": {},
   "source": [
    "### Orientation\n",
    "You can return `dx`, `dy`, and a tuple of (X axis, Y axis) resolution using the methods of the same name:"
   ]
  },
  {
   "cell_type": "code",
   "execution_count": null,
   "id": "77a10afb-1520-4a75-9d23-0785d985e63a",
   "metadata": {},
   "outputs": [],
   "source": [
    "transform = Transform(10, -10, 0, 0, 26911)\n",
    "print(transform.dx())\n",
    "print(transform.dy())\n",
    "print(transform.resolution())"
   ]
  },
  {
   "cell_type": "markdown",
   "id": "321828a4-a027-4bd4-9884-800ac0c33292",
   "metadata": {},
   "source": [
    "Note that resolution is the absolute value of dx and dy, so is strictly positive. By default, these methods will return values in the base unit of the CRS, and you can use the `units` option to return the values in explicit metric or imperial units:"
   ]
  },
  {
   "cell_type": "code",
   "execution_count": null,
   "id": "7e218958-eead-46aa-bbac-2c0badf31601",
   "metadata": {},
   "outputs": [],
   "source": [
    "# Default is CRS base units\n",
    "transform = Transform(9e-5, 9e-5, -121, 0, 4326)\n",
    "print(transform.dx())\n",
    "print(transform.dy())"
   ]
  },
  {
   "cell_type": "code",
   "execution_count": null,
   "id": "7326a42e-4da3-418e-870b-1a181abbb328",
   "metadata": {},
   "outputs": [],
   "source": [
    "# Select other units\n",
    "print(transform.dx(units=\"meters\"))\n",
    "print(transform.dy(\"feet\"))"
   ]
  },
  {
   "cell_type": "markdown",
   "id": "8f39f89b-ad5f-4f91-8ec5-dce806d14520",
   "metadata": {},
   "source": [
    "The values for `dy` are always constant. However, `dx` values are variable when using an angular (geographic) CRS, due to the changing width of longitude units at different latitudes. By default, `dx` and `resolution` return values as measured at the equator. However, you can use the `y` input to obtain more accurate results at other latitudes. This input should be the latitude of the raster's center in the base units of the angular CRS. In practice, this is typically units of decimal degrees:"
   ]
  },
  {
   "cell_type": "code",
   "execution_count": null,
   "id": "120cdfd6-5a2c-4a5d-b4b4-91da7f9bcef2",
   "metadata": {},
   "outputs": [],
   "source": [
    "# Values measured at the equator\n",
    "transform = Transform(9e-5, -9e-5, -121, 30, crs=4326)\n",
    "print(transform.dx(\"meters\"))\n",
    "print(transform.resolution(\"meters\"))"
   ]
  },
  {
   "cell_type": "code",
   "execution_count": null,
   "id": "2c1e23b2-8e63-45be-a879-c97e720ab05d",
   "metadata": {},
   "outputs": [],
   "source": [
    "# dx is smaller at higher latitudes\n",
    "print(transform.dx(\"meters\", y=35))\n",
    "print(transform.resolution(\"meters\", y=35))"
   ]
  },
  {
   "cell_type": "markdown",
   "id": "3a365079-8d2b-4c22-acc7-0e7f651e46cd",
   "metadata": {},
   "source": [
    "### Pixel Geometries\n",
    "You can use the `pixel_area` method to return the area of a single pixel, and `pixel_diagonal` to return the length of a pixel diagonal. Both of these commands support the `units` and `y` options discussed in the previous section:"
   ]
  },
  {
   "cell_type": "code",
   "execution_count": null,
   "id": "026359af-4c35-433f-b110-10f3088eb287",
   "metadata": {},
   "outputs": [],
   "source": [
    "transform = Transform(9e-5, -9e-5, -121, 30, 4326)\n",
    "print(transform.pixel_area(\"meters\"))\n",
    "print(transform.pixel_area(\"meters\", y=35))"
   ]
  },
  {
   "cell_type": "code",
   "execution_count": null,
   "id": "59f3ca11-5d99-40e9-b7e7-c3a248135b7e",
   "metadata": {},
   "outputs": [],
   "source": [
    "print(transform.pixel_diagonal(\"meters\"))\n",
    "print(transform.pixel_diagonal(\"meters\", y=35))"
   ]
  },
  {
   "cell_type": "markdown",
   "id": "58d9eb8c-ef16-403b-8c63-cca81d24b815",
   "metadata": {},
   "source": [
    "### BoundingBox Conversion\n",
    "When combined with a raster shape, a Transform can be converted to a BoundingBox object. This can be useful, as BoundingBox objects include methods not supported by Transform objects. For example, you can use a BoundingBox to return the raster's center, determine the best UTM projection, or determine the bounds of a buffered raster.\n",
    "\n",
    "To convert a Transform object, use the `bounds` method with a raster shape:"
   ]
  },
  {
   "cell_type": "code",
   "execution_count": null,
   "id": "80a7a54a-bd76-4ebc-bf07-a0bf48c7e520",
   "metadata": {},
   "outputs": [],
   "source": [
    "# Transform object and raster shape\n",
    "transform = Transform(10, -10, 0, 0, 26911)\n",
    "nrows, ncols = (1000, 2000)\n",
    "\n",
    "# Convert to BoundingBox\n",
    "transform.bounds(nrows, ncols)"
   ]
  },
  {
   "cell_type": "markdown",
   "id": "719ab394-ea67-49f2-823e-ba2442328711",
   "metadata": {},
   "source": [
    "### Reprojection\n",
    "Transform objects include a `reproject` method, which will convert the Transform to a different CRS:"
   ]
  },
  {
   "cell_type": "code",
   "execution_count": null,
   "id": "25f273c6-4585-4d0d-acc0-e3fa07041377",
   "metadata": {},
   "outputs": [],
   "source": [
    "transform = Transform(10, -10, 0, 0, 26911)\n",
    "transform.reproject(crs=4326)"
   ]
  },
  {
   "cell_type": "markdown",
   "id": "3c6345cd-e6ab-4590-b5c8-5cea7c8b549c",
   "metadata": {},
   "source": [
    "#### Important!\n",
    "BoundingBox objects provide more accurate reprojections than Transform objects. As such, the preferred reprojection workflow for a Transform is as follows:\n",
    "\n",
    "1. Convert the Transform to a BoundingBox object,\n",
    "2. Reproject the BoundingBox,\n",
    "3. Convert the reprojected BoundingBox back to a Transform"
   ]
  }
 ],
 "metadata": {
  "kernelspec": {
   "display_name": "Python 3 (ipykernel)",
   "language": "python",
   "name": "python3"
  },
  "language_info": {
   "codemirror_mode": {
    "name": "ipython",
    "version": 3
   },
   "file_extension": ".py",
   "mimetype": "text/x-python",
   "name": "python",
   "nbconvert_exporter": "python",
   "pygments_lexer": "ipython3",
   "version": "3.12.8"
  }
 },
 "nbformat": 4,
 "nbformat_minor": 5
}