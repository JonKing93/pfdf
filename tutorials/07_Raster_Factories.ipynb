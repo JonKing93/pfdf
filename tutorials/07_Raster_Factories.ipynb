{
 "cells": [
  {
   "cell_type": "markdown",
   "id": "1c47b001-236f-4863-b8fa-31ad6efe987b",
   "metadata": {},
   "source": [
    "# Raster Factories Tutorial\n",
    "This tutorial shows how to use the `Raster` class to load and build raster datasets from different data sources."
   ]
  },
  {
   "cell_type": "markdown",
   "id": "d43a4fc6-2a01-441a-8083-52d514ef6d05",
   "metadata": {},
   "source": [
    "## Introduction"
   ]
  },
  {
   "cell_type": "markdown",
   "id": "1658fccc-cb63-42cc-b3d7-7b2efa34814d",
   "metadata": {},
   "source": [
    "There are many ways to acquire raster datasets when running hazard assessments. For example, a dataset may be loaded from a local file or web URL, or alternatively produced by performing computations on a numpy array. In other cases, you may want to rasterize a non-raster dataset - for example, converting a collection of Polygon features to a Raster representation.\n",
    "\n",
    "To accommodate these diverse cases, the `Raster` class provides factory methods that create `Raster` objects for different data sources. Factories are the recommended way to create `Raster` objects, and they follow the naming convention `from_<source>`, where `<source>` indicates a particular type of data source. Commonly used factories include:\n",
    "\n",
    "* `from_file`: Loads a raster from the local filesystem\n",
    "* `from_url`: Loads a raster from a web URL\n",
    "* `from_array`: Builds a `Raster` from a numpy array\n",
    "* `from_points`: Builds a raster from a collection of Point features\n",
    "* `from_polygons`: Builds a raster from a collection of Polygon features\n",
    "\n",
    "and this tutorial will examine each of these commands."
   ]
  },
  {
   "cell_type": "markdown",
   "id": "8b6018e3-023d-4bd4-baaa-c2abd40d0b43",
   "metadata": {},
   "source": [
    "## Prerequisites"
   ]
  },
  {
   "cell_type": "markdown",
   "id": "772a05d0-6c21-4704-8c18-da751348df92",
   "metadata": {},
   "source": [
    "### Install pfdf\n",
    "To run this tutorial, you must have installed [pfdf 3+ with tutorial resources](https://ghsc.code-pages.usgs.gov/lhp/pfdf/resources/installation.html#tutorials) in your Jupyter kernel. The following line checks this is the case:"
   ]
  },
  {
   "cell_type": "code",
   "execution_count": null,
   "id": "59464357-e3b3-422f-8676-ad0863f0d192",
   "metadata": {},
   "outputs": [],
   "source": [
    "import check_installation"
   ]
  },
  {
   "cell_type": "markdown",
   "id": "82bdc359-156f-452f-91e2-b64c071a74b5",
   "metadata": {},
   "source": [
    "### Imports\n",
    "We'll next import the ``Raster`` class from pfdf. We'll also use `numpy` to create some example datasets, `pathlib.Path` to work with saved files, and the `plot` module to visualize datasets."
   ]
  },
  {
   "cell_type": "code",
   "execution_count": null,
   "id": "92180771-64cc-4d5e-a44a-1add6d4a4faf",
   "metadata": {},
   "outputs": [],
   "source": [
    "from pfdf.raster import Raster\n",
    "import numpy as np\n",
    "from pathlib import Path\n",
    "from tools import plot"
   ]
  },
  {
   "cell_type": "markdown",
   "id": "657c8e17-594c-4fe4-b5d4-1e4ad2752a02",
   "metadata": {},
   "source": [
    "### Example Files\n",
    "Finally, we'll save an example file to use in the tutorial. The example mimics a boolean raster mask that has been saved to file."
   ]
  },
  {
   "cell_type": "code",
   "execution_count": null,
   "id": "4a2afd55-c8aa-4512-84b5-6b052a584fd2",
   "metadata": {},
   "outputs": [],
   "source": [
    "from tools import examples\n",
    "examples.build_mask()"
   ]
  },
  {
   "cell_type": "markdown",
   "id": "ba348ab8-2b6f-40be-8fac-71abe51784e9",
   "metadata": {},
   "source": [
    "## Raster.from_file\n",
    "You can use the `Raster.from_file` command to return a `Raster` object for a dataset saved to the local filesystem. For example:"
   ]
  },
  {
   "cell_type": "code",
   "execution_count": null,
   "id": "ccf3cbcc-a820-40e5-81b1-df0c3965c06f",
   "metadata": {},
   "outputs": [],
   "source": [
    "Raster.from_file('data/dnbr.tif')"
   ]
  },
  {
   "cell_type": "markdown",
   "id": "090ea0cd-ca2d-4f5d-888d-bc7209be56a7",
   "metadata": {},
   "source": [
    "Inspecting our example dataset, we find the `Raster` holds the full 1280 x 1587 pixel data grid, which spans 15870 meters along the X axis, and 12800 meters along the Y axis."
   ]
  },
  {
   "cell_type": "markdown",
   "id": "78df9045-35fa-4daa-9718-9c8b5e13bfd1",
   "metadata": {},
   "source": [
    "The `from_file` command includes a variety of options, which you can read about in the [API](https://ghsc.code-pages.usgs.gov/lhp/pfdf/api/raster.html#pfdf.raster.Raster.from_file). One commonly used option is the `bounds` input, which lets you specify a bounding box in which to read data. This can be useful when your area-of-interest is much smaller than the saved raster dataset, and you want to limit the amount of data read into memory. The most common workflow is to use a second Raster object (often for a buffered fire perimeter) to define the bounding box. \n",
    "\n",
    "For example, let's make a mock fire perimeter that spans the top left quadrant of our dNBR raster. (You don't need to understand the `from_array` command just yet - we'll discuss it later in this tutorial):"
   ]
  },
  {
   "cell_type": "code",
   "execution_count": null,
   "id": "75570b4b-0902-47c3-9af6-11a5dfdf864d",
   "metadata": {},
   "outputs": [],
   "source": [
    "perimeter = Raster.from_array(\n",
    "    True, bounds={'left': 408022.1201, 'bottom': 3782655.5413, 'right': 415957.1201, 'top': 3789055.5413, 'crs': 26911}\n",
    ")\n",
    "print(perimeter.bounds)"
   ]
  },
  {
   "cell_type": "markdown",
   "id": "3a118605-bab7-4596-aec3-af44023c936e",
   "metadata": {},
   "source": [
    "We can now use this second Raster object to only load data from the top-left quadrant of the dNBR dataset:"
   ]
  },
  {
   "cell_type": "code",
   "execution_count": null,
   "id": "982e2139-0476-4047-91ad-1874e0e0c66a",
   "metadata": {},
   "outputs": [],
   "source": [
    "Raster.from_file('data/dnbr.tif', bounds=perimeter)"
   ]
  },
  {
   "cell_type": "markdown",
   "id": "1dd6b85b-3dc6-4271-9a21-99778519494e",
   "metadata": {},
   "source": [
    "Inspecting the `Raster`, we find that command only loaded data for the 640 x 794 pixel grid in the top-left corner of the saved dataset. The bounding box is correspondingly smaller, and spans 7940 meters along the X axis, and 6400 meters along the Y axis. \n",
    "\n",
    "Sometimes, you may want to load data in an explicit bounding box. In this case, you can provide the bounding box directly as input, without needing to load a second Raster object. The input bounding box may use any CRS, and will be reprojected if it does not match the CRS of the loaded raster. For example, let's load the portion of the dNBR data spanning latitudes from 34.15 to 34.20 N, and longitudes from 117.85 to 117.95 W. We'll define these coordinates in EPSG:4326 (also known as WGS-84):"
   ]
  },
  {
   "cell_type": "code",
   "execution_count": null,
   "id": "5bd1b013-1d71-4e57-9e2d-1305e0a93f09",
   "metadata": {},
   "outputs": [],
   "source": [
    "bounds = {'left': -117.95, 'right': -117.85, 'bottom': 34.15, 'top': 34.20, 'crs': 4326}\n",
    "Raster.from_file('data/dnbr.tif', bounds=bounds)"
   ]
  },
  {
   "cell_type": "markdown",
   "id": "be7f3784-e8ff-415f-93da-805e621097f8",
   "metadata": {},
   "source": [
    "Inspecting the raster, we find it holds the 562 x 927 data array located within the indicated coordinates."
   ]
  },
  {
   "cell_type": "markdown",
   "id": "e3d719ac-8637-40b1-9974-424e08682331",
   "metadata": {},
   "source": [
    "## Raster.from_url\n",
    "You can use `Raster.from_url` to load a raster from a web URL. The command supports all the options of `Raster.from_file`, with some additional options for establishing web connections. We recommend using the `bounds` options with `Raster.from_url` whenever possible. Just like the `from_file` command, the `bounds` option instructs the command to only load data from the indicated bounding. This helps limit the total amount of data that needs to be transferred over an internet connection."
   ]
  },
  {
   "cell_type": "markdown",
   "id": "9a7e266f-cd75-4a69-b53f-9eeb2501e280",
   "metadata": {},
   "source": [
    "For example, the USGS distributes its 10 meter DEM product as a tiled dataset, with each tile spanning 1x1 degree of longitude and latitude. The tiles can be accessed via web URLs, but each tile requires ~400 MB of memory, which can take a while to download. Here, we'll use the `bounds` option to download a subset of data from one of these tiles. Specifically, we'll download DEM data near the town of Golden, Colorado:"
   ]
  },
  {
   "cell_type": "code",
   "execution_count": null,
   "id": "bcb88504-4fbe-4d78-9463-4dfcf9622936",
   "metadata": {},
   "outputs": [],
   "source": [
    "bounds = {'left': -105.239773, 'right': -105.206539, 'bottom': 39.739556, 'top': 39.782944, 'crs': 4326}\n",
    "url = 'https://prd-tnm.s3.amazonaws.com/StagedProducts/Elevation/13/TIFF/historical/n40w106/USGS_13_n40w106_20230602.tif'\n",
    "raster = Raster.from_url(url, bounds=bounds)\n",
    "print(raster)"
   ]
  },
  {
   "cell_type": "markdown",
   "id": "60a72df0-01f2-4366-9ac4-88511910a4fb",
   "metadata": {},
   "source": [
    "Inspecting the memory footprint of the loaded data, we find it uses ~673 KB, significantly less than the ~400 MB of the full DEM tile:"
   ]
  },
  {
   "cell_type": "code",
   "execution_count": null,
   "id": "6674f541-67aa-491f-b972-79fc4bda7180",
   "metadata": {},
   "outputs": [],
   "source": [
    "print(f'nbytes = {raster.nbytes}')"
   ]
  },
  {
   "cell_type": "markdown",
   "id": "5851a285-e03d-4099-8e9e-8719092423bc",
   "metadata": {},
   "source": [
    "One of the key connection options is the `timeout` parameter. This option specifies a maximum time to establish an initial connection with the URL server. (This is **not** the total download time, which can be much longer). By default, this is set to 10 seconds, but you might consider raising this time limit if you're on a slow connection. For example, the following will allow 60 seconds to establish a server connection:"
   ]
  },
  {
   "cell_type": "code",
   "execution_count": null,
   "id": "fa909f14-cf94-4aa9-8255-748ddc631709",
   "metadata": {},
   "outputs": [],
   "source": [
    "# Allows a full minute to establish a connection\n",
    "raster = Raster.from_url(url, bounds=bounds, timeout=60)"
   ]
  },
  {
   "cell_type": "markdown",
   "id": "c0148bcd-235c-40a2-ac76-ea0285cddf0c",
   "metadata": {},
   "source": [
    "## Boolean Masks\n",
    "Boolean raster masks are commonly used when working with pfdf. A raster mask is a raster dataset in which all the data values are 0/False or 1/True. These values are used to selectively choose pixels in an associated data raster of the same shape. For example, you might use a mask to indicate pixels that should be included/ignored in an analysis.\n",
    "\n",
    "When working with numpy arrays, raster masks are best represented as arrays with a ``bool`` (boolean) dtype. However, many raster file formats do not support boolean data types, so instead save masks as the integers 1 and 0. This can cause problems, as numpy interprets integer indices differently from booleans.\n",
    "\n",
    "As such, the `from_file` and `from_url` factories include a `isbool` option. Setting this option to True indicates that a saved raster represents a boolean mask, rather than an integer data array. When you use this option, the `Raster` object's data array will have a ``bool`` dtype, and will be suitable for masking with numpy. We **strongly recomend** using this option whenever you load a saved raster mask.\n",
    "\n",
    "For example, if we naively load our example mask, we find the output `Raster` has an integer dtype:"
   ]
  },
  {
   "cell_type": "code",
   "execution_count": null,
   "id": "5e9b89f7-9c86-4900-8f4d-384f1935bc3a",
   "metadata": {},
   "outputs": [],
   "source": [
    "raster = Raster.from_file('examples/mask.tif')\n",
    "print(raster.dtype)\n",
    "print(raster.values)"
   ]
  },
  {
   "cell_type": "markdown",
   "id": "f528bbd4-2c4f-43b9-a5ce-9d57bc8a910f",
   "metadata": {},
   "source": [
    "But if we use the `isbool` option, then the `Raster` has the correct dtype and can be used for numpy indexing:"
   ]
  },
  {
   "cell_type": "code",
   "execution_count": null,
   "id": "c0280b62-d3a6-4e9f-ba76-ec1103e5570d",
   "metadata": {},
   "outputs": [],
   "source": [
    "raster = Raster.from_file('examples/mask.tif', isbool=True)\n",
    "print(raster.dtype)\n",
    "print(raster.values)"
   ]
  },
  {
   "cell_type": "markdown",
   "id": "e867c59a-f84b-429f-9b69-fbb31ad54554",
   "metadata": {},
   "source": [
    "## Raster.from_array\n",
    "You can use the `from_array` factory to build a `Raster` from a numpy array or array-like object."
   ]
  },
  {
   "cell_type": "markdown",
   "id": "38f9b637-01ac-4109-86b9-647e1e958e25",
   "metadata": {},
   "source": [
    "### Spatial Metadata\n",
    "Since numpy arrays do not include spatial metadata, a basic call to this factory will result in a `Raster` object without spatial metadata. For example:"
   ]
  },
  {
   "cell_type": "code",
   "execution_count": null,
   "id": "2aebf679-ac24-40bb-b30e-e7b231c34fc4",
   "metadata": {},
   "outputs": [],
   "source": [
    "values = np.arange(100).reshape(10,10)\n",
    "Raster.from_array(values)"
   ]
  },
  {
   "cell_type": "markdown",
   "id": "69c4147d-89bf-413d-82c1-7aabd90e7d1c",
   "metadata": {},
   "source": [
    "As such, the `from_array` factory includes a variety of options to specify this metadata. For example, you can use the `crs` option to specify a CRS, and either the `transform` or `bounds` option to specify either an affine transform or a bounding box:"
   ]
  },
  {
   "cell_type": "code",
   "execution_count": null,
   "id": "8622bd39-86c9-4845-a26f-aab10c60b131",
   "metadata": {},
   "outputs": [],
   "source": [
    "Raster.from_array(values, crs=4326, bounds=[-117.95, 34.15, -117.85, 34.20])"
   ]
  },
  {
   "cell_type": "markdown",
   "id": "7f29088e-7dc3-45f3-a55d-8204e09c8787",
   "metadata": {},
   "source": [
    "Note that you can only provide one of the `transform` or `bounds` options, as they actually provide the same information, albeit in different formats. In the example above, we did not provide a CRS for the bounding box, so the bounding box coordinates were interpreted in the input CRS (in this case EPSG:4326, which has units of degrees). However, if the bounding box also has a CRS, then the box will be reprojected to match the input CRS for the raster. For example:"
   ]
  },
  {
   "cell_type": "code",
   "execution_count": null,
   "id": "95a881b7-dbf0-454a-8ce6-c52c4365c1df",
   "metadata": {},
   "outputs": [],
   "source": [
    "bounds = {'left': 408022.1201, 'bottom': 3782655.5413, 'right': 415957.1201, 'top': 3789055.5413, 'crs': 26911}\n",
    "Raster.from_array(values, crs=4326,  bounds=bounds)"
   ]
  },
  {
   "cell_type": "markdown",
   "id": "b06375bd-e3b0-45de-968e-e57fd23c41ec",
   "metadata": {},
   "source": [
    "Alternatively, you can use the `spatial` option to set the spatial metadata equal to the spatial metadata of another `Raster` object. This can be useful when performing computations on a raster's data grid. For example, lets do some math on our example raster's data grid, and then convert the results to a `Raster` object:"
   ]
  },
  {
   "cell_type": "code",
   "execution_count": null,
   "id": "d7ce4355-b4b9-464c-96c0-f134585779a7",
   "metadata": {},
   "outputs": [],
   "source": [
    "template = Raster.from_file('data/dnbr.tif')\n",
    "results = template.values * 1.2\n",
    "Raster.from_array(results, spatial=template)"
   ]
  },
  {
   "cell_type": "markdown",
   "id": "170b870e-029e-487b-b22c-51bc803bc6f8",
   "metadata": {},
   "source": [
    "Inspecting the output, we find the new `Raster` object has the same CRS, transform, and bounding box as the template raster."
   ]
  },
  {
   "cell_type": "markdown",
   "id": "d93c7c35-87b6-47df-8095-f9b8f62a3186",
   "metadata": {},
   "source": [
    "### NoData Value"
   ]
  },
  {
   "cell_type": "markdown",
   "id": "ed607396-a56a-43bb-b23e-58ec9cfc098a",
   "metadata": {},
   "source": [
    "\n",
    "By default, `from_array` will attempt to determine a NoData value for the `Raster` from the array dtype. As follows:\n",
    "\n",
    "| dtype | Default Nodata |\n",
    "| ----- | -------------- |\n",
    "| float | NaN |\n",
    "| signed integers (int) | Most negative representable value |\n",
    "| unsigned integers (uint) | Most positive representable value |\n",
    "\n",
    "Alternatively, you can use the `nodata` option to specify the NoData value explicitly. For example:"
   ]
  },
  {
   "cell_type": "code",
   "execution_count": null,
   "id": "7c3020e3-4113-4372-80e8-0926a7a19034",
   "metadata": {},
   "outputs": [],
   "source": [
    "values = np.zeros((10,10), float)\n",
    "default = Raster.from_array(values)\n",
    "explicit = Raster.from_array(values, nodata=-9999)\n",
    "\n",
    "print(default.nodata)\n",
    "print(explicit.nodata)"
   ]
  },
  {
   "cell_type": "markdown",
   "id": "c70d2949-25db-46db-be80-e86686c3f935",
   "metadata": {},
   "source": [
    "## Raster.from_polygons"
   ]
  },
  {
   "cell_type": "markdown",
   "id": "d5665dba-3483-4383-8b14-fe27c4ffe8f1",
   "metadata": {},
   "source": [
    "You can also use raster factories to rasterize vector feature datasets. We'll begin with the `from_polygons` factory, which converts a Polygon/MultiPolygon feature collection to a raster. The command requires the path to a vector feature file as input. For example, the `perimeter.geojson` file from the hazard assessment tutorial is a Polygon collection:"
   ]
  },
  {
   "cell_type": "code",
   "execution_count": null,
   "id": "e4e44d3b-0b2f-48c3-b35a-edc785bf92a9",
   "metadata": {},
   "outputs": [],
   "source": [
    "raster = Raster.from_polygons('data/perimeter.geojson')\n",
    "print(raster)"
   ]
  },
  {
   "cell_type": "markdown",
   "id": "018e937e-0ed9-4fd6-a397-c4f8b14f9e22",
   "metadata": {},
   "source": [
    "### Resolution"
   ]
  },
  {
   "cell_type": "markdown",
   "id": "477824e6-e662-4b62-9dd4-c4def870dd5a",
   "metadata": {},
   "source": [
    "By default, the command rasterizes polygons to a 10 meter resolution, which is the recommended resolution for many of pfdf's hazard models:"
   ]
  },
  {
   "cell_type": "code",
   "execution_count": null,
   "id": "8c8101ce-0c8e-43eb-a956-f8eda5540c8f",
   "metadata": {},
   "outputs": [],
   "source": [
    "raster.resolution('meters')"
   ]
  },
  {
   "cell_type": "markdown",
   "id": "c2b5fff3-54f5-4c91-9478-259960c51a7f",
   "metadata": {},
   "source": [
    "But you can use the `resolution` option to set a different resolution instead:"
   ]
  },
  {
   "cell_type": "code",
   "execution_count": null,
   "id": "f1a5f3a8-a57f-4a01-a285-2bff616542dc",
   "metadata": {},
   "outputs": [],
   "source": [
    "raster = Raster.from_polygons('data/perimeter.geojson', resolution=30, units='meters')\n",
    "raster.resolution('meters')"
   ]
  },
  {
   "cell_type": "markdown",
   "id": "2b62a08b-fbc7-4cd0-a2fc-330a8c34b67f",
   "metadata": {},
   "source": [
    "### Data Fields"
   ]
  },
  {
   "cell_type": "markdown",
   "id": "ba4723a7-abae-47b6-b1cd-3a6fa9c7e40b",
   "metadata": {
    "scrolled": true
   },
   "source": [
    "By default, `from_polygons` will build a boolean raster mask, where True pixels indicate locations within one of the polygons. However, you can use the `field` option to instead build the raster from one of the polygon data fields. In this case, pixels in a polygon will be set to the value for that polygon, and all other pixels are NoData. \n",
    "\n",
    "For example, our example fire perimeter consists of several polygons, which are derived from the burn areas for the Reservoir and Fish fires. The dataset also includes a data field named `my-data`, which indicates which fire a polygon is associated with: a value of 1 indicates the Reservoir Fire, and 2 indicates the Fish fire. If we rasterize the dataset without specifying a data field, then the `from_polygons` command ignores the data field, and interprets the dataset as a boolean raster mask. Plotting the example, we find that raster pixels within the polygons are marked as True (dark grey), and pixels outside the squares are marked as False (white):"
   ]
  },
  {
   "cell_type": "code",
   "execution_count": null,
   "id": "b4fd4992-8e17-4045-86a3-cd3a62eb4a76",
   "metadata": {},
   "outputs": [],
   "source": [
    "raster = Raster.from_polygons('data/perimeter.geojson')\n",
    "plot.mask(raster, title='Rasterized Polygons (Boolean Mask)', legend='Pixels in a Polygon')"
   ]
  },
  {
   "cell_type": "markdown",
   "id": "e049d002-7957-45eb-86d4-1e056c9a61b0",
   "metadata": {},
   "source": [
    "By contrast, if we rasterize the polygons from a data field, then the pixel values are determined by the data field for the associated polygon. For example, if we rasterize the example using the `my-data` field, then the pixels within the polygons are set to the associated field value, which in this case corresponds to the associated fire. Note that pixels outside of the polygons are set to NoData:"
   ]
  },
  {
   "cell_type": "code",
   "execution_count": null,
   "id": "8952ba53-996b-48f9-9136-dd02d31f725a",
   "metadata": {},
   "outputs": [],
   "source": [
    "raster = Raster.from_polygons('data/perimeter.geojson', field='my-data')\n",
    "plot.raster(raster, title='Rasterized Polygons (Data Field)', cmap='coolwarm', clabel='Data Field', show_basemap=True)"
   ]
  },
  {
   "cell_type": "markdown",
   "id": "2c279e0a-2fc4-4a09-b53b-6e04e6ea4cd7",
   "metadata": {},
   "source": [
    "### Bounding Box\n",
    "It's not uncommon to have a Polygon dataset that covers a much larger spatial area than your area of interest. When this is the case, rasterizing the entire polygon dataset can require an excessive amount of memory. Instead, use the `bounds` option to only rasterize the polygon features that intersect the given bounding box. As with the `from_file` factory, the most common workflow is to use a second `Raster` object as the bounding box. However, you can also provide the bounds explicitly if known.\n",
    "\n",
    "For example, let's use the `bounds` option to only rasterize the portion of the fire perimeter corresponding to the Reservoir Fire:"
   ]
  },
  {
   "cell_type": "code",
   "execution_count": null,
   "id": "e94cada6-ebc7-436b-b2c0-eb7e52d91aeb",
   "metadata": {},
   "outputs": [],
   "source": [
    "bounds = {'left': -117.894242, 'bottom': 34.1842093, 'right': -117.8585418, 'top': 34.2101890, 'crs': 4326}\n",
    "raster = Raster.from_polygons('data/perimeter.geojson', bounds=bounds)\n",
    "plot.mask(raster, title='Rasterized Polygons (Bounded)', legend='Pixels in a Polygon')"
   ]
  },
  {
   "cell_type": "markdown",
   "id": "eb9d2eaf-1a9f-46bb-a770-3e3f297a5c43",
   "metadata": {},
   "source": [
    "## Raster.from_points"
   ]
  },
  {
   "cell_type": "markdown",
   "id": "456585c3-ad75-434d-9b87-ed1165624eb4",
   "metadata": {},
   "source": [
    "The syntax for the `from_points` factory is nearly identical to `from_polygons`, except that the file path should be for a Point/MultiPoint collection. When rasterizing points, raster pixels that contain a point will be set to `True` or the point's data field, as appropriate."
   ]
  },
  {
   "cell_type": "markdown",
   "id": "dce5ad84-2fec-4e84-8261-d8061b9779b6",
   "metadata": {},
   "source": [
    "## Conclusion"
   ]
  },
  {
   "cell_type": "markdown",
   "id": "269d4e5f-22ae-4379-970e-3e2c72bce05c",
   "metadata": {},
   "source": [
    "In this tutorial, we've learned how to convert various types of datasets to `Raster` objects. We used:\n",
    "\n",
    "* `from_file` to load a raster from the local file system\n",
    "* `from_url` to load a raster from a web URL,\n",
    "* `from_array` to add raster metadata to a numpy array\n",
    "* `from_polygons` to rasterize a Polygon dataset, and\n",
    "* `from_points` to rasterize a Point dataset."
   ]
  }
 ],
 "metadata": {
  "kernelspec": {
   "display_name": "Python 3 (ipykernel)",
   "language": "python",
   "name": "python3"
  },
  "language_info": {
   "codemirror_mode": {
    "name": "ipython",
    "version": 3
   },
   "file_extension": ".py",
   "mimetype": "text/x-python",
   "name": "python",
   "nbconvert_exporter": "python",
   "pygments_lexer": "ipython3",
   "version": "3.12.8"
  }
 },
 "nbformat": 4,
 "nbformat_minor": 5
}