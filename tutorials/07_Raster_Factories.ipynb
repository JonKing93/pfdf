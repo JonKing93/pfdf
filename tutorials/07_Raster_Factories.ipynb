{
 "cells": [
  {
   "cell_type": "markdown",
   "id": "1c47b001-236f-4863-b8fa-31ad6efe987b",
   "metadata": {},
   "source": [
    "# Raster Factories Tutorial\n",
    "This tutorial shows how to use the `Raster` class to load and build raster datasets from different data sources."
   ]
  },
  {
   "cell_type": "markdown",
   "id": "d43a4fc6-2a01-441a-8083-52d514ef6d05",
   "metadata": {},
   "source": [
    "## Introduction"
   ]
  },
  {
   "cell_type": "markdown",
   "id": "1658fccc-cb63-42cc-b3d7-7b2efa34814d",
   "metadata": {},
   "source": [
    "There are many ways to acquire raster datasets when running hazard assessments. For example, a dataset may be loaded from a local file or web URL, or alternatively produced by performing computations on a numpy array. In other cases, you may want to rasterize a non-raster dataset - for example, converting a collection of Polygon features to a Raster representation.\n",
    "\n",
    "To accommodate these diverse cases, the `Raster` class provides factory methods that create `Raster` objects for different data sources. Factories are the recommended way to create `Raster` objects, and they follow the naming convention `from_<source>`, where `<source>` indicates a particular type of data source. Commonly used factories include:\n",
    "\n",
    "* `from_file`: Loads a raster from the local filesystem\n",
    "* `from_url`: Loads a raster from a web URL\n",
    "* `from_array`: Builds a `Raster` from a numpy array\n",
    "* `from_points`: Builds a raster from a collection of Point features\n",
    "* `from_polygons`: Builds a raster from a collection of Polygon features\n",
    "\n",
    "and this tutorial will examine each of these commands.\n",
    "\n",
    "Finally, it is also often useful to save `Raster` datasets to the local filesystem. For example, to save a new raster produced by a hazard assessment analysis. The `Raster` class provides the `save` command for just this purpose, and we will examine that command at the end of the tutorial."
   ]
  },
  {
   "cell_type": "markdown",
   "id": "8b6018e3-023d-4bd4-baaa-c2abd40d0b43",
   "metadata": {},
   "source": [
    "## Prerequisites"
   ]
  },
  {
   "cell_type": "markdown",
   "id": "772a05d0-6c21-4704-8c18-da751348df92",
   "metadata": {},
   "source": [
    "### Install pfdf\n",
    "To run this tutorial, you must have installed [pfdf 3+ with tutorial resources](https://ghsc.code-pages.usgs.gov/lhp/pfdf/resources/installation.html#tutorials) in your Jupyter kernel. The following line checks this is the case:"
   ]
  },
  {
   "cell_type": "code",
   "execution_count": null,
   "id": "59464357-e3b3-422f-8676-ad0863f0d192",
   "metadata": {},
   "outputs": [],
   "source": [
    "import check_installation"
   ]
  },
  {
   "cell_type": "markdown",
   "id": "82bdc359-156f-452f-91e2-b64c071a74b5",
   "metadata": {},
   "source": [
    "### Imports\n",
    "We'll next import the ``Raster`` class from pfdf. We'll also use `numpy` to create some example datasets, `pathlib.Path` to work with saved files, and the `plot` module to visualize datasets."
   ]
  },
  {
   "cell_type": "code",
   "execution_count": null,
   "id": "92180771-64cc-4d5e-a44a-1add6d4a4faf",
   "metadata": {},
   "outputs": [],
   "source": [
    "from pfdf.raster import Raster\n",
    "import numpy as np\n",
    "from pathlib import Path\n",
    "from tools import plot"
   ]
  },
  {
   "cell_type": "markdown",
   "id": "b1a2702a-7b0a-49d5-bf27-4ff0224b20fb",
   "metadata": {},
   "source": [
    "### Example Files\n",
    "Finally, we'll save some example files to use in the tutorial. The raster dataset is a 50x75 grid of random values between 0 and 100 with a border of -1 NoData values along the edges. The raster is projected in EPSG:26911 with a 10 meter resolution. We'll also save a raster mask that locates pixels with a value greater than 50, and an example Polygon feature collection."
   ]
  },
  {
   "cell_type": "code",
   "execution_count": null,
   "id": "3e990bad-8f4e-4397-8867-fdbfe186b52b",
   "metadata": {},
   "outputs": [],
   "source": [
    "from tools import examples\n",
    "examples.build_raster()\n",
    "examples.build_mask()\n",
    "examples.build_polygons()"
   ]
  },
  {
   "cell_type": "markdown",
   "id": "ba348ab8-2b6f-40be-8fac-71abe51784e9",
   "metadata": {},
   "source": [
    "## Raster.from_file\n",
    "You can use the `Raster.from_file` command to return a `Raster` object for a dataset saved to the local filesystem. For example:"
   ]
  },
  {
   "cell_type": "code",
   "execution_count": null,
   "id": "ccf3cbcc-a820-40e5-81b1-df0c3965c06f",
   "metadata": {},
   "outputs": [],
   "source": [
    "Raster.from_file('examples/raster.tif')"
   ]
  },
  {
   "cell_type": "markdown",
   "id": "090ea0cd-ca2d-4f5d-888d-bc7209be56a7",
   "metadata": {},
   "source": [
    "Inspecting our example dataset, we can see the `Raster` holds the full 50x75 pixel data grid, which spans from 0 to 750 across the X axis, and from -500 to 0 along the Y axis."
   ]
  },
  {
   "cell_type": "markdown",
   "id": "78df9045-35fa-4daa-9718-9c8b5e13bfd1",
   "metadata": {},
   "source": [
    "The `from_file` command includes a variety of options, which you can read about in the [API](https://ghsc.code-pages.usgs.gov/lhp/pfdf/api/raster.html#pfdf.raster.Raster.from_file). One commonly used option is the `bounds` input, which lets you specify a bounding box in which to read data. This can be useful when your area-of-interest is much smaller than the saved raster dataset, and you want to limit the amount of data read into memory.\n",
    "\n",
    "For example, let's try loading only the top-left quadrant of our example raster:"
   ]
  },
  {
   "cell_type": "code",
   "execution_count": null,
   "id": "982e2139-0476-4047-91ad-1874e0e0c66a",
   "metadata": {},
   "outputs": [],
   "source": [
    "bounds = {'left': 0, 'bottom': -250, 'right': 370, 'top': 0, 'crs': 26911}\n",
    "Raster.from_file('examples/raster.tif', bounds=bounds)"
   ]
  },
  {
   "cell_type": "markdown",
   "id": "d6c49312-67e8-42d2-8fff-aa8c35eb3adb",
   "metadata": {},
   "source": [
    "Inspecting the `Raster`, we can see that commandonly loaded data for the 25x37 pixel grid in the top-left corner of the saved dataset. The bounding box is correspondingly smaller, and spans from 0 to 370 along the X axis, and -250 to 0 along the Y axis.\n",
    "\n",
    "Note that the `bounds` input does not need to use the same CRS as the saved file. For example, here we'll load the same subset of the example file, but using a bounding box defined in EPSG:4326 instead:"
   ]
  },
  {
   "cell_type": "code",
   "execution_count": null,
   "id": "5f1ee08f-8b83-4781-adaa-3fe0951e102e",
   "metadata": {},
   "outputs": [],
   "source": [
    "bounds = [\n",
    "    -121.48874388784702,    # left\n",
    "    -0.0022548542591846253, # bottom\n",
    "    -121.4854290480384,     # right\n",
    "    0.0,                    # top\n",
    "    4326,                   # crs\n",
    "]\n",
    "Raster.from_file('examples/raster.tif', bounds=bounds)"
   ]
  },
  {
   "cell_type": "markdown",
   "id": "e3d719ac-8637-40b1-9974-424e08682331",
   "metadata": {},
   "source": [
    "## Raster.from_url\n",
    "You can use `Raster.from_url` to load a raster from a web URL. The command supports all the options of `Raster.from_file`, with some additional options for establishing web connections. We recommend using the `bounds` options with `Raster.from_url` whenever possible. Just like the `from_file` command, the `bounds` option instructs the command to only load data from the indicated bounding. This helps limit the total amount of data that needs to be transferred over an internet connection."
   ]
  },
  {
   "cell_type": "markdown",
   "id": "9a7e266f-cd75-4a69-b53f-9eeb2501e280",
   "metadata": {},
   "source": [
    "For example, the USGS distributes its 10 meter DEM product as a tiled dataset, with each tile spanning 1x1 degree of longitude and latitude. The tiles can be accessed via web URLs, but each tile requires ~400 MB of memory, which can take a while to download. Here, we'll use the `bounds` option to download a subset of data from one of these tiles. Specifically, we'll download DEM data near the town of Golden, Colorado:"
   ]
  },
  {
   "cell_type": "code",
   "execution_count": null,
   "id": "bcb88504-4fbe-4d78-9463-4dfcf9622936",
   "metadata": {},
   "outputs": [],
   "source": [
    "bounds = {\n",
    "    'left': -105.239773,\n",
    "    'bottom': 39.739556,\n",
    "    'right': -105.206539,\n",
    "    'top': 39.782944,\n",
    "    'crs': 4326,\n",
    "}\n",
    "url = 'https://prd-tnm.s3.amazonaws.com/StagedProducts/Elevation/13/TIFF/historical/n40w106/USGS_13_n40w106_20230602.tif'\n",
    "raster = Raster.from_url(url, bounds=bounds)\n",
    "print(raster)"
   ]
  },
  {
   "cell_type": "markdown",
   "id": "60a72df0-01f2-4366-9ac4-88511910a4fb",
   "metadata": {},
   "source": [
    "Inspecting the memory footprint of the loaded data, we can see it uses ~673 KB, significantly less than the ~400 MB of the full DEM tile:"
   ]
  },
  {
   "cell_type": "code",
   "execution_count": null,
   "id": "6674f541-67aa-491f-b972-79fc4bda7180",
   "metadata": {},
   "outputs": [],
   "source": [
    "print(f'nbytes = {raster.nbytes}')"
   ]
  },
  {
   "cell_type": "markdown",
   "id": "5851a285-e03d-4099-8e9e-8719092423bc",
   "metadata": {},
   "source": [
    "One of the key connection options is the `timeout` parameter. This option specifies a maximum time to establish an initial connection with the URL server. (This is **not** the total download time, which can be much longer). By default, this is set to 10 seconds, but you might consider raising this time limit if you're on a slow connection. For example:"
   ]
  },
  {
   "cell_type": "code",
   "execution_count": null,
   "id": "fa909f14-cf94-4aa9-8255-748ddc631709",
   "metadata": {},
   "outputs": [],
   "source": [
    "# Allows a full minute to establish a connection\n",
    "raster = Raster.from_url(url, bounds=bounds, timeout=60)"
   ]
  },
  {
   "cell_type": "markdown",
   "id": "c0148bcd-235c-40a2-ac76-ea0285cddf0c",
   "metadata": {},
   "source": [
    "## Boolean Masks\n",
    "Boolean raster masks are commonly used when working with pfdf. A raster mask is a raster dataset in which all the data values are 0/False or 1/True. These values are used to selectively choose pixels in an associated data raster of the same shape. For example, you might use a mask to indicate pixels that should be included/ignored in an analysis.\n",
    "\n",
    "When working with numpy arrays, raster masks are best represented as arrays with a ``bool`` (boolean) dtype. However, many raster file formats do not support boolean data types, so instead save masks as the integers 1 and 0. This can cause problems, as numpy interprets integer indices differently from booleans.\n",
    "\n",
    "As such, the `from_file` and `from_url` factories include a `isbool` option. Setting this option to True indicates that a saved raster represents a boolean mask, rather than an integer data array. When you use this option, the `Raster` object's data array will have a ``bool`` dtype, and will be suitable for masking with numpy. We **strongly recomend** using this option whenever you load a saved raster mask.\n",
    "\n",
    "For example, if we naively load our example mask, we can see the output `Raster` has an integer dtype:"
   ]
  },
  {
   "cell_type": "code",
   "execution_count": null,
   "id": "5e9b89f7-9c86-4900-8f4d-384f1935bc3a",
   "metadata": {},
   "outputs": [],
   "source": [
    "raster = Raster.from_file('examples/mask.tif')\n",
    "print(raster.dtype)\n",
    "print(raster.values)"
   ]
  },
  {
   "cell_type": "markdown",
   "id": "f528bbd4-2c4f-43b9-a5ce-9d57bc8a910f",
   "metadata": {},
   "source": [
    "But if we use the `isbool` option, then the `Raster` has the correct dtype and can be used for numpy indexing:"
   ]
  },
  {
   "cell_type": "code",
   "execution_count": null,
   "id": "c0280b62-d3a6-4e9f-ba76-ec1103e5570d",
   "metadata": {},
   "outputs": [],
   "source": [
    "raster = Raster.from_file('examples/mask.tif', isbool=True)\n",
    "print(raster.dtype)\n",
    "print(raster.values)"
   ]
  },
  {
   "cell_type": "markdown",
   "id": "e867c59a-f84b-429f-9b69-fbb31ad54554",
   "metadata": {},
   "source": [
    "## Raster.from_array\n",
    "You can use the `from_array` factory to build a `Raster` from a numpy array or array-like object."
   ]
  },
  {
   "cell_type": "markdown",
   "id": "38f9b637-01ac-4109-86b9-647e1e958e25",
   "metadata": {},
   "source": [
    "### Spatial Metadata\n",
    "Since numpy arrays do not include spatial metadata, a basic call to this factory will result in a `Raster` object without spatial metadata. For example:"
   ]
  },
  {
   "cell_type": "code",
   "execution_count": null,
   "id": "2aebf679-ac24-40bb-b30e-e7b231c34fc4",
   "metadata": {},
   "outputs": [],
   "source": [
    "values = np.arange(100).reshape(10,10)\n",
    "Raster.from_array(values)"
   ]
  },
  {
   "cell_type": "markdown",
   "id": "69c4147d-89bf-413d-82c1-7aabd90e7d1c",
   "metadata": {},
   "source": [
    "As such, the `from_array` factory includes a variety of options to specify this metadata. For example, you can use the `crs` option to specify a CRS, and either the `transform` or `bounds` option to specify either an affine transform or a bounding box:"
   ]
  },
  {
   "cell_type": "code",
   "execution_count": null,
   "id": "8622bd39-86c9-4845-a26f-aab10c60b131",
   "metadata": {},
   "outputs": [],
   "source": [
    "Raster.from_array(values, crs=4326, bounds=[0,0,50,200])"
   ]
  },
  {
   "cell_type": "markdown",
   "id": "57eaff24-73db-4877-8206-6fbbf829ba56",
   "metadata": {},
   "source": [
    "Note that you can only provide one of the `transform` or `bounds` options, as they actually provide the same information, albeit in different formats.\n",
    "\n",
    "Alternatively, you can use the `spatial` option to set the spatial metadata equal to the spatial metadata of another `Raster` object. This can be useful when performing computations on a raster's data grid. For example, lets do some math on our example raster's data grid, and then convert the results to a `Raster` object:"
   ]
  },
  {
   "cell_type": "code",
   "execution_count": null,
   "id": "d7ce4355-b4b9-464c-96c0-f134585779a7",
   "metadata": {},
   "outputs": [],
   "source": [
    "template = Raster.from_file('examples/raster.tif')\n",
    "results = template.values * 1.2\n",
    "Raster.from_array(results, spatial=template)"
   ]
  },
  {
   "cell_type": "markdown",
   "id": "170b870e-029e-487b-b22c-51bc803bc6f8",
   "metadata": {},
   "source": [
    "Inspecting the output, we can see the new `Raster` object has the same CRS, transform, and bounding box as the template raster."
   ]
  },
  {
   "cell_type": "markdown",
   "id": "d93c7c35-87b6-47df-8095-f9b8f62a3186",
   "metadata": {},
   "source": [
    "### NoData Value"
   ]
  },
  {
   "cell_type": "markdown",
   "id": "ed607396-a56a-43bb-b23e-58ec9cfc098a",
   "metadata": {},
   "source": [
    "\n",
    "By default, `from_array` will attempt to determine a NoData value for the `Raster` from the array dtype. As follows:\n",
    "\n",
    "* float: nan\n",
    "* signed integers: most negative representable value\n",
    "* unsigned integers: most postive representable value\n",
    "\n",
    "Alternatively, you can use the `nodata` option to specify the NoData value explicitly. For example:"
   ]
  },
  {
   "cell_type": "code",
   "execution_count": null,
   "id": "7c3020e3-4113-4372-80e8-0926a7a19034",
   "metadata": {},
   "outputs": [],
   "source": [
    "values = np.zeros((10,10), float)\n",
    "default = Raster.from_array(values)\n",
    "explicit = Raster.from_array(values, nodata=-1)\n",
    "\n",
    "print(default.nodata)\n",
    "print(explicit.nodata)"
   ]
  },
  {
   "cell_type": "markdown",
   "id": "c70d2949-25db-46db-be80-e86686c3f935",
   "metadata": {},
   "source": [
    "## Raster.from_polygons"
   ]
  },
  {
   "cell_type": "markdown",
   "id": "d5665dba-3483-4383-8b14-fe27c4ffe8f1",
   "metadata": {},
   "source": [
    "You can also use raster factories to rasterize vector feature datasets. We'll begin with the `from_polygons` factory, which converts a Polygon/MultiPolygon feature collection to a raster. The command requires the path to a vector feature file as input. For example, the `perimeter.geojson` data file is a Polygon collection:"
   ]
  },
  {
   "cell_type": "code",
   "execution_count": null,
   "id": "e4e44d3b-0b2f-48c3-b35a-edc785bf92a9",
   "metadata": {},
   "outputs": [],
   "source": [
    "raster = Raster.from_polygons('examples/polygons.geojson')\n",
    "print(raster)"
   ]
  },
  {
   "cell_type": "markdown",
   "id": "018e937e-0ed9-4fd6-a397-c4f8b14f9e22",
   "metadata": {},
   "source": [
    "### Resolution"
   ]
  },
  {
   "cell_type": "markdown",
   "id": "477824e6-e662-4b62-9dd4-c4def870dd5a",
   "metadata": {},
   "source": [
    "By default, the command rasterizes polygons to a 10 meter resolution, which is the recommended resolution for many of pfdf's hazard models:"
   ]
  },
  {
   "cell_type": "code",
   "execution_count": null,
   "id": "8c8101ce-0c8e-43eb-a956-f8eda5540c8f",
   "metadata": {},
   "outputs": [],
   "source": [
    "raster.resolution('meters')"
   ]
  },
  {
   "cell_type": "markdown",
   "id": "c2b5fff3-54f5-4c91-9478-259960c51a7f",
   "metadata": {},
   "source": [
    "But you can use the `resolution` option to set a different resolution instead:"
   ]
  },
  {
   "cell_type": "code",
   "execution_count": null,
   "id": "f1a5f3a8-a57f-4a01-a285-2bff616542dc",
   "metadata": {},
   "outputs": [],
   "source": [
    "raster = Raster.from_polygons('examples/polygons.geojson', resolution=30, units='meters')\n",
    "raster.resolution('meters')"
   ]
  },
  {
   "cell_type": "markdown",
   "id": "2b62a08b-fbc7-4cd0-a2fc-330a8c34b67f",
   "metadata": {},
   "source": [
    "### Data Fields"
   ]
  },
  {
   "cell_type": "markdown",
   "id": "ba4723a7-abae-47b6-b1cd-3a6fa9c7e40b",
   "metadata": {
    "scrolled": true
   },
   "source": [
    "By default, `from_polygons` will build a boolean raster mask, where True pixels indicate locations within one of the polygons. However, you can use the `field` option to build the raster from one of the polygon data fields instead. In this case, pixels in a polygon will be set to the value for that polygon, and all other pixels are NoData. \n",
    "\n",
    "For example, the example polygon dataset consists of five squares. If we don't specify a data field, then the output raster masks the pixels in those squares:"
   ]
  },
  {
   "cell_type": "code",
   "execution_count": null,
   "id": "b4fd4992-8e17-4045-86a3-cd3a62eb4a76",
   "metadata": {},
   "outputs": [],
   "source": [
    "raster = Raster.from_polygons('examples/polygons.geojson')\n",
    "plot.mask(raster, title='Rasterized Polygons (Boolean Mask)', basemap=False)"
   ]
  },
  {
   "cell_type": "markdown",
   "id": "e049d002-7957-45eb-86d4-1e056c9a61b0",
   "metadata": {},
   "source": [
    "By contrast, if we rasterize the polygons from a data field, then the pixel values are determined by the data field:"
   ]
  },
  {
   "cell_type": "code",
   "execution_count": null,
   "id": "8952ba53-996b-48f9-9136-dd02d31f725a",
   "metadata": {},
   "outputs": [],
   "source": [
    "raster = Raster.from_polygons('examples/polygons.geojson', field='my-data')\n",
    "plot.raster(raster, title='Rasterized Polygons (Data Field)', cmap='OrRd', clabel='Data Field')"
   ]
  },
  {
   "cell_type": "markdown",
   "id": "2c279e0a-2fc4-4a09-b53b-6e04e6ea4cd7",
   "metadata": {},
   "source": [
    "### Bounding Box\n",
    "It's not uncommon to have a Polygon dataset that covers a much larger spatial area than your area of interest. When this is the case, rasterizing the entire polygon dataset can require an excessive amount of memory. Instead, use the `bounds` option to only rasterize the polygon features that intersect the given bounding box.\n",
    "\n",
    "For example, let's use the `bounds` option to only rasterize the bottom-left quadrant of our example dataset. The squares in the dataset span from 0 to 100 along the X and Y axes, so we'll only rasterize the portion from 0 to 50:"
   ]
  },
  {
   "cell_type": "code",
   "execution_count": null,
   "id": "e94cada6-ebc7-436b-b2c0-eb7e52d91aeb",
   "metadata": {},
   "outputs": [],
   "source": [
    "raster = Raster.from_polygons('examples/polygons.geojson', field='my-data', bounds=[0,0,50,50,26911])\n",
    "plot.raster(raster, title='Rasterized Polygons (Quadrant)', cmap='OrRd', clabel='Data Field')"
   ]
  },
  {
   "cell_type": "markdown",
   "id": "eb9d2eaf-1a9f-46bb-a770-3e3f297a5c43",
   "metadata": {},
   "source": [
    "## Raster.from_points"
   ]
  },
  {
   "cell_type": "markdown",
   "id": "456585c3-ad75-434d-9b87-ed1165624eb4",
   "metadata": {},
   "source": [
    "The syntax for the `from_points` factory is nearly identical to `from_polygons`, except that the file path should be for a Point/MultiPoint collection. When rasterizing points, raster pixels that contain a point will be set to `True` or the point's data field, as appropriate."
   ]
  },
  {
   "cell_type": "markdown",
   "id": "dce5ad84-2fec-4e84-8261-d8061b9779b6",
   "metadata": {},
   "source": [
    "## Conclusion"
   ]
  },
  {
   "cell_type": "markdown",
   "id": "269d4e5f-22ae-4379-970e-3e2c72bce05c",
   "metadata": {},
   "source": [
    "In this tutorial, we've seen how to convert various types of datasets to `Raster` objects. We used:\n",
    "\n",
    "* `from_file` to load a raster from the local file system\n",
    "* `from_url` to load a raster from a web URL,\n",
    "* `from_array` to add raster metadata to a numpy array\n",
    "* `from_polygons` to rasterize a Polygon dataset, and\n",
    "* `from_points` to rasterize a Point dataset."
   ]
  }
 ],
 "metadata": {
  "kernelspec": {
   "display_name": "Python 3 (ipykernel)",
   "language": "python",
   "name": "python3"
  },
  "language_info": {
   "codemirror_mode": {
    "name": "ipython",
    "version": 3
   },
   "file_extension": ".py",
   "mimetype": "text/x-python",
   "name": "python",
   "nbconvert_exporter": "python",
   "pygments_lexer": "ipython3",
   "version": "3.12.8"
  }
 },
 "nbformat": 4,
 "nbformat_minor": 5
}